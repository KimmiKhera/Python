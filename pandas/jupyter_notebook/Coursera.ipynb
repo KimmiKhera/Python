{
 "cells": [
  {
   "cell_type": "code",
   "execution_count": 2,
   "metadata": {},
   "outputs": [
    {
     "name": "stdout",
     "output_type": "stream",
     "text": [
      "Enter file:C:/Users/kkher/Desktop/regex_sum_519227.txt\n",
      "477410\n"
     ]
    }
   ],
   "source": [
    "import re\n",
    "name = input(\"Enter file:\")\n",
    "if len(name) < 1 : name = \"C:/Users/kkher/Desktop/regex_sum_519227.txt\"\n",
    "handle = open(name)\n",
    "x=list()\n",
    "for line in handle:\n",
    "    y=re.findall('[0-9]+',line)\n",
    "    x=x+y\n",
    "sum=0\n",
    "for i in x:\n",
    "    sum=sum + int(i)\n",
    "print (sum)"
   ]
  },
  {
   "cell_type": "code",
   "execution_count": 2,
   "metadata": {},
   "outputs": [],
   "source": []
  },
  {
   "cell_type": "code",
   "execution_count": 6,
   "metadata": {},
   "outputs": [
    {
     "name": "stdout",
     "output_type": "stream",
     "text": [
      "2403\n"
     ]
    }
   ],
   "source": [
    "from urllib import request\n",
    "from bs4 import BeautifulSoup\n",
    "html=request.urlopen('http://py4e-data.dr-chuck.net/comments_519229.html').read()\n",
    "soup = BeautifulSoup(html)\n",
    "tags=soup('span')\n",
    "sum=0\n",
    "for tag in tags:\n",
    "    sum=sum+int(tag.contents[0])\n",
    "print(sum)"
   ]
  },
  {
   "cell_type": "code",
   "execution_count": 14,
   "metadata": {
    "scrolled": true
   },
   "outputs": [
    {
     "ename": "AttributeError",
     "evalue": "module 'urllib' has no attribute 'urlencode'",
     "output_type": "error",
     "traceback": [
      "\u001b[1;31m---------------------------------------------------------------------------\u001b[0m",
      "\u001b[1;31mAttributeError\u001b[0m                            Traceback (most recent call last)",
      "\u001b[1;32m<ipython-input-14-38705b4eefa4>\u001b[0m in \u001b[0;36m<module>\u001b[1;34m\u001b[0m\n\u001b[0;32m     10\u001b[0m \u001b[1;31m#Setting the GET parameters on the URL\u001b[0m\u001b[1;33m\u001b[0m\u001b[1;33m\u001b[0m\u001b[1;33m\u001b[0m\u001b[0m\n\u001b[0;32m     11\u001b[0m \u001b[0mparameters\u001b[0m \u001b[1;33m=\u001b[0m \u001b[1;33m{\u001b[0m\u001b[1;34m\"sensor\"\u001b[0m\u001b[1;33m:\u001b[0m \u001b[1;34m\"false\"\u001b[0m\u001b[1;33m,\u001b[0m \u001b[1;34m\"address\"\u001b[0m\u001b[1;33m:\u001b[0m \u001b[0maddress_wanted\u001b[0m\u001b[1;33m}\u001b[0m\u001b[1;33m\u001b[0m\u001b[1;33m\u001b[0m\u001b[0m\n\u001b[1;32m---> 12\u001b[1;33m \u001b[0mparamsurl\u001b[0m \u001b[1;33m=\u001b[0m \u001b[0murllib\u001b[0m\u001b[1;33m.\u001b[0m\u001b[0murlencode\u001b[0m\u001b[1;33m(\u001b[0m\u001b[0mparameters\u001b[0m\u001b[1;33m)\u001b[0m\u001b[1;33m\u001b[0m\u001b[1;33m\u001b[0m\u001b[0m\n\u001b[0m\u001b[0;32m     13\u001b[0m \u001b[1;33m\u001b[0m\u001b[0m\n\u001b[0;32m     14\u001b[0m \u001b[1;31m#Generating the complete URL. Printing it in order to check if it's correct.\u001b[0m\u001b[1;33m\u001b[0m\u001b[1;33m\u001b[0m\u001b[1;33m\u001b[0m\u001b[0m\n",
      "\u001b[1;31mAttributeError\u001b[0m: module 'urllib' has no attribute 'urlencode'"
     ]
    }
   ],
   "source": [
    "import json\n",
    "import urllib\n",
    "\n",
    "#Stroring the given parameters\n",
    "serviceurl = \"http://python-data.dr-chuck.net/geojson?\"\n",
    "sample_address = \"South Federal University\"\n",
    "data_address = \"Columbia University\"\n",
    "address_wanted = data_address\n",
    "\n",
    "#Setting the GET parameters on the URL\n",
    "parameters = {\"sensor\": \"false\", \"address\": address_wanted}\n",
    "paramsurl = urllib.urlencode(parameters)\n",
    "\n",
    "#Generating the complete URL. Printing it in order to check if it's correct.\n",
    "queryurl = serviceurl + paramsurl\n",
    "print(\"DATA URL: \", queryurl)\n",
    "\n",
    "#Obtaining and reading the data\n",
    "data = urllib.urlopen(queryurl).read()\n",
    "\n",
    "#Parsing the data and looking for the field we want.\n",
    "#That field is inside the \"Results\" array, in its first item (if our address is \n",
    "#correct we can assume that the result would be the correct one) and on its \n",
    "#\"place_id\" field\n",
    "jsondata = json.loads(str(data))\n",
    "place_id = jsondata[\"results\"][0][\"place_id\"]\n",
    "print(\"PLACE ID: \", place_id)"
   ]
  },
  {
   "cell_type": "code",
   "execution_count": 15,
   "metadata": {},
   "outputs": [
    {
     "name": "stdout",
     "output_type": "stream",
     "text": [
      "Enter location: http://py4e-data.dr-chuck.net/comments_519231.xml\n",
      "Retrieving http://py4e-data.dr-chuck.net/comments_519231.xml\n",
      "Retrieved 4221 characters\n",
      "Count: 50\n",
      "Sum: 2413\n"
     ]
    }
   ],
   "source": [
    "import urllib.request, urllib.parse, urllib.error\n",
    "import xml.etree.ElementTree as ET\n",
    "\n",
    "link = input('Enter location: ')\n",
    "html = urllib.request.urlopen(link).read().decode()\n",
    "print('Retrieving', link)\n",
    "print('Retrieved', len(html), 'characters')\n",
    "\n",
    "\n",
    "#data calculation\n",
    "cn = 0\n",
    "sm = 0\n",
    "data = ET.fromstring(html)\n",
    "tags = data.findall('comments/comment')\n",
    "\n",
    "for tag in tags:\n",
    "    cn += 1\n",
    "    sm += int(tag.find('count').text)\n",
    "\n",
    "print('Count:', cn)\n",
    "print('Sum:', sm)"
   ]
  },
  {
   "cell_type": "code",
   "execution_count": 16,
   "metadata": {
    "scrolled": true
   },
   "outputs": [
    {
     "name": "stdout",
     "output_type": "stream",
     "text": [
      "Enter location: http://py4e-data.dr-chuck.net/comments_519232.json\n",
      "Retrieving  http://py4e-data.dr-chuck.net/comments_519232.json\n",
      "Retrieved 2725 characters\n",
      "Count: 50\n",
      "Sum: 2294\n"
     ]
    }
   ],
   "source": [
    "import urllib.request as ur\n",
    "import json\n",
    "\n",
    "# json_url = 'http://python-data.dr-chuck.net/comments_42.json'\n",
    "\n",
    "json_url = input(\"Enter location: \")\n",
    "print(\"Retrieving \", json_url)\n",
    "data = ur.urlopen(json_url).read().decode('utf-8')\n",
    "print('Retrieved', len(data), 'characters')\n",
    "json_obj = json.loads(data)\n",
    "\n",
    "sum = 0\n",
    "total_number = 0\n",
    "\n",
    "for comment in json_obj[\"comments\"]:\n",
    "    sum += int(comment[\"count\"])\n",
    "    total_number += 1\n",
    "\n",
    "print('Count:', total_number)\n",
    "print('Sum:', sum)"
   ]
  },
  {
   "cell_type": "code",
   "execution_count": 20,
   "metadata": {
    "scrolled": true
   },
   "outputs": [
    {
     "name": "stdout",
     "output_type": "stream",
     "text": [
      "DATA URL:  http://py4e-data.dr-chuck.net/json?address=Kyiv+Polytechnical+Institute&key=42\n",
      "{'results': [{'access_points': [], 'address_components': [{'long_name': '37', 'short_name': '37', 'types': ['street_number']}, {'long_name': 'Peremohy Avenue', 'short_name': 'Peremohy Ave', 'types': ['route']}, {'long_name': \"Solom'yans'kyi district\", 'short_name': \"Solom'yans'kyi district\", 'types': ['political', 'sublocality', 'sublocality_level_1']}, {'long_name': 'Kyiv', 'short_name': 'Kyiv', 'types': ['locality', 'political']}, {'long_name': 'Kyiv City', 'short_name': 'Kyiv City', 'types': ['administrative_area_level_2', 'political']}, {'long_name': 'Ukraine', 'short_name': 'UA', 'types': ['country', 'political']}, {'long_name': '03056', 'short_name': '03056', 'types': ['postal_code']}], 'formatted_address': 'Peremohy Ave, 37, Kyiv, Ukraine, 03056', 'geometry': {'location': {'lat': 50.4491309, 'lng': 30.4561593}, 'location_type': 'ROOFTOP', 'viewport': {'northeast': {'lat': 50.4504798802915, 'lng': 30.4575082802915}, 'southwest': {'lat': 50.4477819197085, 'lng': 30.4548103197085}}}, 'partial_match': True, 'place_id': 'ChIJR4q8uYLO1EAR82shkV1OUUc', 'plus_code': {'compound_code': 'CFX4+MF Kyiv, Kyiv city, Ukraine', 'global_code': '9G2GCFX4+MF'}, 'types': ['establishment', 'point_of_interest', 'university']}], 'status': 'OK'}\n",
      "PLACE ID:  ChIJR4q8uYLO1EAR82shkV1OUUc\n"
     ]
    }
   ],
   "source": [
    "import json\n",
    "import urllib.request\n",
    "import urllib.parse\n",
    "import urllib.error\n",
    "\n",
    "\n",
    "\n",
    "# Ignore SSL certificate errors\n",
    "ctx = ssl.create_default_context()\n",
    "ctx.check_hostname = False\n",
    "ctx.verify_mode = ssl.CERT_NONE\n",
    "\n",
    "\n",
    "\n",
    "#Stroring the given parameters\n",
    "api_key = 42\n",
    "serviceurl = \"http://py4e-data.dr-chuck.net/json?\"\n",
    "# sample_address = \"Kyiv Polytechnical Institute\"\n",
    "data_address = \"Kyiv Polytechnical Institute\"\n",
    "address_wanted = data_address\n",
    "\n",
    "#Setting the GET parameters on the URL\n",
    "parameters = {\"address\": address_wanted, \"key\":api_key}\n",
    "paramsurl = urllib.parse.urlencode(parameters)\n",
    "\n",
    "#Generating the complete URL. Printing it in order to check if it's correct.\n",
    "queryurl = serviceurl.strip() + paramsurl.strip()\n",
    "print(\"DATA URL: \", queryurl)\n",
    "\n",
    "#Obtaining and reading the data\n",
    "try :\n",
    "    data_read = urllib.request.urlopen(queryurl , context=ctx).read()\n",
    "    data = data_read.decode()\n",
    "    # Parsing the data and looking for the field we want.\n",
    "    jsondata = json.loads(data)\n",
    "    print(jsondata)\n",
    "    place_id = jsondata[\"results\"][0][\"place_id\"]\n",
    "    print(\"PLACE ID: \", place_id)\n",
    "except:\n",
    "    print(\"Error.....\")\n",
    "    print(\"-\"*50)\n",
    "    print(data)"
   ]
  },
  {
   "cell_type": "code",
   "execution_count": null,
   "metadata": {},
   "outputs": [],
   "source": []
  }
 ],
 "metadata": {
  "kernelspec": {
   "display_name": "Python 3",
   "language": "python",
   "name": "python3"
  },
  "language_info": {
   "codemirror_mode": {
    "name": "ipython",
    "version": 3
   },
   "file_extension": ".py",
   "mimetype": "text/x-python",
   "name": "python",
   "nbconvert_exporter": "python",
   "pygments_lexer": "ipython3",
   "version": "3.7.5"
  }
 },
 "nbformat": 4,
 "nbformat_minor": 4
}
