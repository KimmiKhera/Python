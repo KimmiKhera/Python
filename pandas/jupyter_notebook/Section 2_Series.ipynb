{
 "cells": [
  {
   "cell_type": "markdown",
   "metadata": {},
   "source": [
    "## Create a Series Object from a Python List:"
   ]
  },
  {
   "cell_type": "code",
   "execution_count": 1,
   "metadata": {},
   "outputs": [],
   "source": [
    "import pandas as pd"
   ]
  },
  {
   "cell_type": "code",
   "execution_count": 2,
   "metadata": {},
   "outputs": [
    {
     "data": {
      "text/plain": [
       "0     Chocolate\n",
       "1       Vanilla\n",
       "2    Strawberry\n",
       "3    Rum Raisin\n",
       "dtype: object"
      ]
     },
     "execution_count": 2,
     "metadata": {},
     "output_type": "execute_result"
    }
   ],
   "source": [
    "ice_cream = [\"Chocolate\", \"Vanilla\", \"Strawberry\", \"Rum Raisin\"]\n",
    "pd.Series(ice_cream)"
   ]
  },
  {
   "cell_type": "code",
   "execution_count": 3,
   "metadata": {},
   "outputs": [
    {
     "data": {
      "text/plain": [
       "0     4\n",
       "1     8\n",
       "2    15\n",
       "3    16\n",
       "4    23\n",
       "5    42\n",
       "dtype: int64"
      ]
     },
     "execution_count": 3,
     "metadata": {},
     "output_type": "execute_result"
    }
   ],
   "source": [
    "lottery = [4, 8, 15, 16, 23, 42]\n",
    "pd.Series(lottery)"
   ]
  },
  {
   "cell_type": "code",
   "execution_count": 4,
   "metadata": {},
   "outputs": [
    {
     "data": {
      "text/plain": [
       "0     True\n",
       "1    False\n",
       "2    False\n",
       "3    False\n",
       "4     True\n",
       "dtype: bool"
      ]
     },
     "execution_count": 4,
     "metadata": {},
     "output_type": "execute_result"
    }
   ],
   "source": [
    "registrations = [True, False, False, False, True]\n",
    "pd.Series(registrations)"
   ]
  },
  {
   "cell_type": "markdown",
   "metadata": {},
   "source": [
    "## Create a Series Object from a Python Dictionary:"
   ]
  },
  {
   "cell_type": "code",
   "execution_count": 5,
   "metadata": {},
   "outputs": [
    {
     "data": {
      "text/plain": [
       "Tiger                 An animal\n",
       "Strawberry    A delicious fruit\n",
       "Black                  A colour\n",
       "dtype: object"
      ]
     },
     "execution_count": 5,
     "metadata": {},
     "output_type": "execute_result"
    }
   ],
   "source": [
    "webster = {\"Tiger\" : \"An animal\",\n",
    "          \"Strawberry\" : \"A delicious fruit\",\n",
    "          \"Black\" : \"A colour\"}\n",
    "pd.Series(webster)"
   ]
  },
  {
   "cell_type": "markdown",
   "metadata": {},
   "source": [
    "## Intro to Attributes:"
   ]
  },
  {
   "cell_type": "code",
   "execution_count": 6,
   "metadata": {},
   "outputs": [
    {
     "data": {
      "text/plain": [
       "0        Smart\n",
       "1     Handsome\n",
       "2     Charming\n",
       "3    Brilliant\n",
       "4       Humble\n",
       "dtype: object"
      ]
     },
     "execution_count": 6,
     "metadata": {},
     "output_type": "execute_result"
    }
   ],
   "source": [
    "about_me = [\"Smart\", \"Handsome\", \"Charming\", \"Brilliant\", \"Humble\"]\n",
    "s = pd.Series(about_me)\n",
    "s"
   ]
  },
  {
   "cell_type": "code",
   "execution_count": 7,
   "metadata": {},
   "outputs": [
    {
     "data": {
      "text/plain": [
       "array(['Smart', 'Handsome', 'Charming', 'Brilliant', 'Humble'],\n",
       "      dtype=object)"
      ]
     },
     "execution_count": 7,
     "metadata": {},
     "output_type": "execute_result"
    }
   ],
   "source": [
    "s.values"
   ]
  },
  {
   "cell_type": "code",
   "execution_count": 8,
   "metadata": {},
   "outputs": [
    {
     "data": {
      "text/plain": [
       "RangeIndex(start=0, stop=5, step=1)"
      ]
     },
     "execution_count": 8,
     "metadata": {},
     "output_type": "execute_result"
    }
   ],
   "source": [
    "s.index"
   ]
  },
  {
   "cell_type": "code",
   "execution_count": 9,
   "metadata": {},
   "outputs": [
    {
     "data": {
      "text/plain": [
       "dtype('O')"
      ]
     },
     "execution_count": 9,
     "metadata": {},
     "output_type": "execute_result"
    }
   ],
   "source": [
    "s.dtype"
   ]
  },
  {
   "cell_type": "markdown",
   "metadata": {},
   "source": [
    "## Intro to Methods:"
   ]
  },
  {
   "cell_type": "code",
   "execution_count": 10,
   "metadata": {},
   "outputs": [
    {
     "data": {
      "text/plain": [
       "0    2.99\n",
       "1    4.45\n",
       "2    1.36\n",
       "dtype: float64"
      ]
     },
     "execution_count": 10,
     "metadata": {},
     "output_type": "execute_result"
    }
   ],
   "source": [
    "prices = [2.99, 4.45, 1.36]\n",
    "s = pd.Series(prices)\n",
    "s"
   ]
  },
  {
   "cell_type": "code",
   "execution_count": 11,
   "metadata": {},
   "outputs": [
    {
     "data": {
      "text/plain": [
       "8.8"
      ]
     },
     "execution_count": 11,
     "metadata": {},
     "output_type": "execute_result"
    }
   ],
   "source": [
    "s.sum()"
   ]
  },
  {
   "cell_type": "code",
   "execution_count": 12,
   "metadata": {},
   "outputs": [
    {
     "data": {
      "text/plain": [
       "18.095480000000006"
      ]
     },
     "execution_count": 12,
     "metadata": {},
     "output_type": "execute_result"
    }
   ],
   "source": [
    "s.product()"
   ]
  },
  {
   "cell_type": "code",
   "execution_count": 13,
   "metadata": {},
   "outputs": [
    {
     "data": {
      "text/plain": [
       "2.9333333333333336"
      ]
     },
     "execution_count": 13,
     "metadata": {},
     "output_type": "execute_result"
    }
   ],
   "source": [
    "s.mean()"
   ]
  },
  {
   "cell_type": "markdown",
   "metadata": {},
   "source": [
    "## Parameters and Arguements:"
   ]
  },
  {
   "cell_type": "code",
   "execution_count": 14,
   "metadata": {},
   "outputs": [
    {
     "data": {
      "text/plain": [
       "Monday           Apple\n",
       "Tuesday         Orange\n",
       "Wednesday       Grapes\n",
       "Thursday     Blueberry\n",
       "Friday            Plum\n",
       "dtype: object"
      ]
     },
     "execution_count": 14,
     "metadata": {},
     "output_type": "execute_result"
    }
   ],
   "source": [
    "fruits = [\"Apple\", \"Orange\", \"Grapes\", \"Blueberry\", \"Plum\"]\n",
    "weekdays = [\"Monday\", \"Tuesday\", \"Wednesday\", \"Thursday\", \"Friday\"]\n",
    "pd.Series(fruits, weekdays)\n",
    "pd.Series(data = fruits, index = weekdays)\n",
    "pd.Series(fruits, index = weekdays)"
   ]
  },
  {
   "cell_type": "code",
   "execution_count": 15,
   "metadata": {},
   "outputs": [
    {
     "data": {
      "text/plain": [
       "Monday            Apple\n",
       "Tuesday          Orange\n",
       "Wednesday        Grapes\n",
       "Thursday      Blueberry\n",
       "Friday             Plum\n",
       "Monday       Watermelon\n",
       "dtype: object"
      ]
     },
     "execution_count": 15,
     "metadata": {},
     "output_type": "execute_result"
    }
   ],
   "source": [
    "fruits = [\"Apple\", \"Orange\", \"Grapes\", \"Blueberry\", \"Plum\", \"Watermelon\"]\n",
    "weekdays = [\"Monday\", \"Tuesday\", \"Wednesday\", \"Thursday\", \"Friday\", \"Monday\"]\n",
    "pd.Series(data = fruits, index = weekdays)"
   ]
  },
  {
   "cell_type": "markdown",
   "metadata": {},
   "source": [
    "## Import Series with the Read_Csv Method:"
   ]
  },
  {
   "cell_type": "code",
   "execution_count": 16,
   "metadata": {},
   "outputs": [
    {
     "data": {
      "text/plain": [
       "0                       Sub-Saharan Africa\n",
       "1                                   Europe\n",
       "2                                   Europe\n",
       "3                                   Europe\n",
       "4                                   Europe\n",
       "                       ...                \n",
       "49995    Central America and the Caribbean\n",
       "49996    Central America and the Caribbean\n",
       "49997                                 Asia\n",
       "49998                   Sub-Saharan Africa\n",
       "49999                   Sub-Saharan Africa\n",
       "Name: Region, Length: 50000, dtype: object"
      ]
     },
     "execution_count": 16,
     "metadata": {},
     "output_type": "execute_result"
    }
   ],
   "source": [
    "pd.read_csv(\"C:/Users/kkher/Desktop/SalesRecords.csv\", usecols = [\"Region\"], squeeze = True)"
   ]
  },
  {
   "cell_type": "code",
   "execution_count": 17,
   "metadata": {},
   "outputs": [
    {
     "data": {
      "text/html": [
       "<div>\n",
       "<style scoped>\n",
       "    .dataframe tbody tr th:only-of-type {\n",
       "        vertical-align: middle;\n",
       "    }\n",
       "\n",
       "    .dataframe tbody tr th {\n",
       "        vertical-align: top;\n",
       "    }\n",
       "\n",
       "    .dataframe thead th {\n",
       "        text-align: right;\n",
       "    }\n",
       "</style>\n",
       "<table border=\"1\" class=\"dataframe\">\n",
       "  <thead>\n",
       "    <tr style=\"text-align: right;\">\n",
       "      <th></th>\n",
       "      <th>Region</th>\n",
       "      <th>Country</th>\n",
       "      <th>Item Type</th>\n",
       "      <th>Sales Channel</th>\n",
       "      <th>Order Priority</th>\n",
       "      <th>Order Date</th>\n",
       "      <th>Order ID</th>\n",
       "      <th>Ship Date</th>\n",
       "      <th>Units Sold</th>\n",
       "      <th>Unit Price</th>\n",
       "      <th>Unit Cost</th>\n",
       "      <th>Total Revenue</th>\n",
       "      <th>Total Cost</th>\n",
       "      <th>Total Profit</th>\n",
       "    </tr>\n",
       "  </thead>\n",
       "  <tbody>\n",
       "    <tr>\n",
       "      <th>0</th>\n",
       "      <td>Sub-Saharan Africa</td>\n",
       "      <td>Namibia</td>\n",
       "      <td>Household</td>\n",
       "      <td>Offline</td>\n",
       "      <td>M</td>\n",
       "      <td>8/31/2015</td>\n",
       "      <td>897751939</td>\n",
       "      <td>10/12/2015</td>\n",
       "      <td>3604</td>\n",
       "      <td>668.27</td>\n",
       "      <td>502.54</td>\n",
       "      <td>2408445.08</td>\n",
       "      <td>1811154.16</td>\n",
       "      <td>597290.92</td>\n",
       "    </tr>\n",
       "    <tr>\n",
       "      <th>1</th>\n",
       "      <td>Europe</td>\n",
       "      <td>Iceland</td>\n",
       "      <td>Baby Food</td>\n",
       "      <td>Online</td>\n",
       "      <td>H</td>\n",
       "      <td>11/20/2010</td>\n",
       "      <td>599480426</td>\n",
       "      <td>1/9/2011</td>\n",
       "      <td>8435</td>\n",
       "      <td>255.28</td>\n",
       "      <td>159.42</td>\n",
       "      <td>2153286.80</td>\n",
       "      <td>1344707.70</td>\n",
       "      <td>808579.10</td>\n",
       "    </tr>\n",
       "    <tr>\n",
       "      <th>2</th>\n",
       "      <td>Europe</td>\n",
       "      <td>Russia</td>\n",
       "      <td>Meat</td>\n",
       "      <td>Online</td>\n",
       "      <td>L</td>\n",
       "      <td>6/22/2017</td>\n",
       "      <td>538911855</td>\n",
       "      <td>6/25/2017</td>\n",
       "      <td>4848</td>\n",
       "      <td>421.89</td>\n",
       "      <td>364.69</td>\n",
       "      <td>2045322.72</td>\n",
       "      <td>1768017.12</td>\n",
       "      <td>277305.60</td>\n",
       "    </tr>\n",
       "    <tr>\n",
       "      <th>3</th>\n",
       "      <td>Europe</td>\n",
       "      <td>Moldova</td>\n",
       "      <td>Meat</td>\n",
       "      <td>Online</td>\n",
       "      <td>L</td>\n",
       "      <td>2/28/2012</td>\n",
       "      <td>459845054</td>\n",
       "      <td>3/20/2012</td>\n",
       "      <td>7225</td>\n",
       "      <td>421.89</td>\n",
       "      <td>364.69</td>\n",
       "      <td>3048155.25</td>\n",
       "      <td>2634885.25</td>\n",
       "      <td>413270.00</td>\n",
       "    </tr>\n",
       "    <tr>\n",
       "      <th>4</th>\n",
       "      <td>Europe</td>\n",
       "      <td>Malta</td>\n",
       "      <td>Cereal</td>\n",
       "      <td>Online</td>\n",
       "      <td>M</td>\n",
       "      <td>8/12/2010</td>\n",
       "      <td>626391351</td>\n",
       "      <td>9/13/2010</td>\n",
       "      <td>1975</td>\n",
       "      <td>205.70</td>\n",
       "      <td>117.11</td>\n",
       "      <td>406257.50</td>\n",
       "      <td>231292.25</td>\n",
       "      <td>174965.25</td>\n",
       "    </tr>\n",
       "    <tr>\n",
       "      <th>...</th>\n",
       "      <td>...</td>\n",
       "      <td>...</td>\n",
       "      <td>...</td>\n",
       "      <td>...</td>\n",
       "      <td>...</td>\n",
       "      <td>...</td>\n",
       "      <td>...</td>\n",
       "      <td>...</td>\n",
       "      <td>...</td>\n",
       "      <td>...</td>\n",
       "      <td>...</td>\n",
       "      <td>...</td>\n",
       "      <td>...</td>\n",
       "      <td>...</td>\n",
       "    </tr>\n",
       "    <tr>\n",
       "      <th>49995</th>\n",
       "      <td>Central America and the Caribbean</td>\n",
       "      <td>Dominican Republic</td>\n",
       "      <td>Baby Food</td>\n",
       "      <td>Offline</td>\n",
       "      <td>C</td>\n",
       "      <td>2/12/2015</td>\n",
       "      <td>350891578</td>\n",
       "      <td>3/15/2015</td>\n",
       "      <td>5470</td>\n",
       "      <td>255.28</td>\n",
       "      <td>159.42</td>\n",
       "      <td>1396381.60</td>\n",
       "      <td>872027.40</td>\n",
       "      <td>524354.20</td>\n",
       "    </tr>\n",
       "    <tr>\n",
       "      <th>49996</th>\n",
       "      <td>Central America and the Caribbean</td>\n",
       "      <td>Cuba</td>\n",
       "      <td>Office Supplies</td>\n",
       "      <td>Online</td>\n",
       "      <td>M</td>\n",
       "      <td>3/28/2013</td>\n",
       "      <td>748260629</td>\n",
       "      <td>5/3/2013</td>\n",
       "      <td>5803</td>\n",
       "      <td>651.21</td>\n",
       "      <td>524.96</td>\n",
       "      <td>3778971.63</td>\n",
       "      <td>3046342.88</td>\n",
       "      <td>732628.75</td>\n",
       "    </tr>\n",
       "    <tr>\n",
       "      <th>49997</th>\n",
       "      <td>Asia</td>\n",
       "      <td>Vietnam</td>\n",
       "      <td>Personal Care</td>\n",
       "      <td>Offline</td>\n",
       "      <td>L</td>\n",
       "      <td>11/11/2016</td>\n",
       "      <td>322932231</td>\n",
       "      <td>12/18/2016</td>\n",
       "      <td>1678</td>\n",
       "      <td>81.73</td>\n",
       "      <td>56.67</td>\n",
       "      <td>137142.94</td>\n",
       "      <td>95092.26</td>\n",
       "      <td>42050.68</td>\n",
       "    </tr>\n",
       "    <tr>\n",
       "      <th>49998</th>\n",
       "      <td>Sub-Saharan Africa</td>\n",
       "      <td>Sierra Leone</td>\n",
       "      <td>Clothes</td>\n",
       "      <td>Online</td>\n",
       "      <td>M</td>\n",
       "      <td>8/28/2010</td>\n",
       "      <td>492142713</td>\n",
       "      <td>9/21/2010</td>\n",
       "      <td>4820</td>\n",
       "      <td>109.28</td>\n",
       "      <td>35.84</td>\n",
       "      <td>526729.60</td>\n",
       "      <td>172748.80</td>\n",
       "      <td>353980.80</td>\n",
       "    </tr>\n",
       "    <tr>\n",
       "      <th>49999</th>\n",
       "      <td>Sub-Saharan Africa</td>\n",
       "      <td>Eritrea</td>\n",
       "      <td>Vegetables</td>\n",
       "      <td>Offline</td>\n",
       "      <td>L</td>\n",
       "      <td>6/5/2014</td>\n",
       "      <td>943440902</td>\n",
       "      <td>6/30/2014</td>\n",
       "      <td>3983</td>\n",
       "      <td>154.06</td>\n",
       "      <td>90.93</td>\n",
       "      <td>613620.98</td>\n",
       "      <td>362174.19</td>\n",
       "      <td>251446.79</td>\n",
       "    </tr>\n",
       "  </tbody>\n",
       "</table>\n",
       "<p>50000 rows × 14 columns</p>\n",
       "</div>"
      ],
      "text/plain": [
       "                                  Region             Country        Item Type  \\\n",
       "0                     Sub-Saharan Africa             Namibia        Household   \n",
       "1                                 Europe             Iceland        Baby Food   \n",
       "2                                 Europe              Russia             Meat   \n",
       "3                                 Europe            Moldova              Meat   \n",
       "4                                 Europe               Malta           Cereal   \n",
       "...                                  ...                 ...              ...   \n",
       "49995  Central America and the Caribbean  Dominican Republic        Baby Food   \n",
       "49996  Central America and the Caribbean                Cuba  Office Supplies   \n",
       "49997                               Asia             Vietnam    Personal Care   \n",
       "49998                 Sub-Saharan Africa        Sierra Leone          Clothes   \n",
       "49999                 Sub-Saharan Africa             Eritrea       Vegetables   \n",
       "\n",
       "      Sales Channel Order Priority  Order Date   Order ID   Ship Date  \\\n",
       "0           Offline              M   8/31/2015  897751939  10/12/2015   \n",
       "1            Online              H  11/20/2010  599480426    1/9/2011   \n",
       "2            Online              L   6/22/2017  538911855   6/25/2017   \n",
       "3            Online              L   2/28/2012  459845054   3/20/2012   \n",
       "4            Online              M   8/12/2010  626391351   9/13/2010   \n",
       "...             ...            ...         ...        ...         ...   \n",
       "49995       Offline              C   2/12/2015  350891578   3/15/2015   \n",
       "49996        Online              M   3/28/2013  748260629    5/3/2013   \n",
       "49997       Offline              L  11/11/2016  322932231  12/18/2016   \n",
       "49998        Online              M   8/28/2010  492142713   9/21/2010   \n",
       "49999       Offline              L    6/5/2014  943440902   6/30/2014   \n",
       "\n",
       "       Units Sold  Unit Price  Unit Cost  Total Revenue  Total Cost  \\\n",
       "0            3604      668.27     502.54     2408445.08  1811154.16   \n",
       "1            8435      255.28     159.42     2153286.80  1344707.70   \n",
       "2            4848      421.89     364.69     2045322.72  1768017.12   \n",
       "3            7225      421.89     364.69     3048155.25  2634885.25   \n",
       "4            1975      205.70     117.11      406257.50   231292.25   \n",
       "...           ...         ...        ...            ...         ...   \n",
       "49995        5470      255.28     159.42     1396381.60   872027.40   \n",
       "49996        5803      651.21     524.96     3778971.63  3046342.88   \n",
       "49997        1678       81.73      56.67      137142.94    95092.26   \n",
       "49998        4820      109.28      35.84      526729.60   172748.80   \n",
       "49999        3983      154.06      90.93      613620.98   362174.19   \n",
       "\n",
       "       Total Profit  \n",
       "0         597290.92  \n",
       "1         808579.10  \n",
       "2         277305.60  \n",
       "3         413270.00  \n",
       "4         174965.25  \n",
       "...             ...  \n",
       "49995     524354.20  \n",
       "49996     732628.75  \n",
       "49997      42050.68  \n",
       "49998     353980.80  \n",
       "49999     251446.79  \n",
       "\n",
       "[50000 rows x 14 columns]"
      ]
     },
     "execution_count": 17,
     "metadata": {},
     "output_type": "execute_result"
    }
   ],
   "source": [
    "SalesRecords = pd.read_csv(\"C:/Users/kkher/Desktop/SalesRecords.csv\", squeeze = True)\n",
    "SalesRecords"
   ]
  },
  {
   "cell_type": "markdown",
   "metadata": {},
   "source": [
    "## The Head and Tail Methods:"
   ]
  },
  {
   "cell_type": "code",
   "execution_count": 18,
   "metadata": {},
   "outputs": [
    {
     "data": {
      "text/html": [
       "<div>\n",
       "<style scoped>\n",
       "    .dataframe tbody tr th:only-of-type {\n",
       "        vertical-align: middle;\n",
       "    }\n",
       "\n",
       "    .dataframe tbody tr th {\n",
       "        vertical-align: top;\n",
       "    }\n",
       "\n",
       "    .dataframe thead th {\n",
       "        text-align: right;\n",
       "    }\n",
       "</style>\n",
       "<table border=\"1\" class=\"dataframe\">\n",
       "  <thead>\n",
       "    <tr style=\"text-align: right;\">\n",
       "      <th></th>\n",
       "      <th>Region</th>\n",
       "      <th>Country</th>\n",
       "      <th>Item Type</th>\n",
       "      <th>Sales Channel</th>\n",
       "      <th>Order Priority</th>\n",
       "      <th>Order Date</th>\n",
       "      <th>Order ID</th>\n",
       "      <th>Ship Date</th>\n",
       "      <th>Units Sold</th>\n",
       "      <th>Unit Price</th>\n",
       "      <th>Unit Cost</th>\n",
       "      <th>Total Revenue</th>\n",
       "      <th>Total Cost</th>\n",
       "      <th>Total Profit</th>\n",
       "    </tr>\n",
       "  </thead>\n",
       "  <tbody>\n",
       "    <tr>\n",
       "      <th>0</th>\n",
       "      <td>Sub-Saharan Africa</td>\n",
       "      <td>Namibia</td>\n",
       "      <td>Household</td>\n",
       "      <td>Offline</td>\n",
       "      <td>M</td>\n",
       "      <td>8/31/2015</td>\n",
       "      <td>897751939</td>\n",
       "      <td>10/12/2015</td>\n",
       "      <td>3604</td>\n",
       "      <td>668.27</td>\n",
       "      <td>502.54</td>\n",
       "      <td>2408445.08</td>\n",
       "      <td>1811154.16</td>\n",
       "      <td>597290.92</td>\n",
       "    </tr>\n",
       "  </tbody>\n",
       "</table>\n",
       "</div>"
      ],
      "text/plain": [
       "               Region  Country  Item Type Sales Channel Order Priority  \\\n",
       "0  Sub-Saharan Africa  Namibia  Household       Offline              M   \n",
       "\n",
       "  Order Date   Order ID   Ship Date  Units Sold  Unit Price  Unit Cost  \\\n",
       "0  8/31/2015  897751939  10/12/2015        3604      668.27     502.54   \n",
       "\n",
       "   Total Revenue  Total Cost  Total Profit  \n",
       "0     2408445.08  1811154.16     597290.92  "
      ]
     },
     "execution_count": 18,
     "metadata": {},
     "output_type": "execute_result"
    }
   ],
   "source": [
    "SalesRecords.head(1)"
   ]
  },
  {
   "cell_type": "code",
   "execution_count": 19,
   "metadata": {},
   "outputs": [
    {
     "data": {
      "text/html": [
       "<div>\n",
       "<style scoped>\n",
       "    .dataframe tbody tr th:only-of-type {\n",
       "        vertical-align: middle;\n",
       "    }\n",
       "\n",
       "    .dataframe tbody tr th {\n",
       "        vertical-align: top;\n",
       "    }\n",
       "\n",
       "    .dataframe thead th {\n",
       "        text-align: right;\n",
       "    }\n",
       "</style>\n",
       "<table border=\"1\" class=\"dataframe\">\n",
       "  <thead>\n",
       "    <tr style=\"text-align: right;\">\n",
       "      <th></th>\n",
       "      <th>Region</th>\n",
       "      <th>Country</th>\n",
       "      <th>Item Type</th>\n",
       "      <th>Sales Channel</th>\n",
       "      <th>Order Priority</th>\n",
       "      <th>Order Date</th>\n",
       "      <th>Order ID</th>\n",
       "      <th>Ship Date</th>\n",
       "      <th>Units Sold</th>\n",
       "      <th>Unit Price</th>\n",
       "      <th>Unit Cost</th>\n",
       "      <th>Total Revenue</th>\n",
       "      <th>Total Cost</th>\n",
       "      <th>Total Profit</th>\n",
       "    </tr>\n",
       "  </thead>\n",
       "  <tbody>\n",
       "    <tr>\n",
       "      <th>49999</th>\n",
       "      <td>Sub-Saharan Africa</td>\n",
       "      <td>Eritrea</td>\n",
       "      <td>Vegetables</td>\n",
       "      <td>Offline</td>\n",
       "      <td>L</td>\n",
       "      <td>6/5/2014</td>\n",
       "      <td>943440902</td>\n",
       "      <td>6/30/2014</td>\n",
       "      <td>3983</td>\n",
       "      <td>154.06</td>\n",
       "      <td>90.93</td>\n",
       "      <td>613620.98</td>\n",
       "      <td>362174.19</td>\n",
       "      <td>251446.79</td>\n",
       "    </tr>\n",
       "  </tbody>\n",
       "</table>\n",
       "</div>"
      ],
      "text/plain": [
       "                   Region  Country   Item Type Sales Channel Order Priority  \\\n",
       "49999  Sub-Saharan Africa  Eritrea  Vegetables       Offline              L   \n",
       "\n",
       "      Order Date   Order ID  Ship Date  Units Sold  Unit Price  Unit Cost  \\\n",
       "49999   6/5/2014  943440902  6/30/2014        3983      154.06      90.93   \n",
       "\n",
       "       Total Revenue  Total Cost  Total Profit  \n",
       "49999      613620.98   362174.19     251446.79  "
      ]
     },
     "execution_count": 19,
     "metadata": {},
     "output_type": "execute_result"
    }
   ],
   "source": [
    "SalesRecords.tail(1)"
   ]
  },
  {
   "cell_type": "markdown",
   "metadata": {},
   "source": [
    "## Python Built-In Functions:"
   ]
  },
  {
   "cell_type": "code",
   "execution_count": 20,
   "metadata": {},
   "outputs": [
    {
     "data": {
      "text/plain": [
       "50000"
      ]
     },
     "execution_count": 20,
     "metadata": {},
     "output_type": "execute_result"
    }
   ],
   "source": [
    "len(SalesRecords)"
   ]
  },
  {
   "cell_type": "code",
   "execution_count": 21,
   "metadata": {},
   "outputs": [
    {
     "data": {
      "text/plain": [
       "pandas.core.frame.DataFrame"
      ]
     },
     "execution_count": 21,
     "metadata": {},
     "output_type": "execute_result"
    }
   ],
   "source": [
    "type(SalesRecords)"
   ]
  },
  {
   "cell_type": "code",
   "execution_count": 22,
   "metadata": {},
   "outputs": [
    {
     "data": {
      "text/plain": [
       "['Country',\n",
       " 'Region',\n",
       " 'T',\n",
       " '_AXIS_ALIASES',\n",
       " '_AXIS_IALIASES',\n",
       " '_AXIS_LEN',\n",
       " '_AXIS_NAMES',\n",
       " '_AXIS_NUMBERS',\n",
       " '_AXIS_ORDERS',\n",
       " '_AXIS_REVERSED',\n",
       " '__abs__',\n",
       " '__add__',\n",
       " '__and__',\n",
       " '__annotations__',\n",
       " '__array__',\n",
       " '__array_priority__',\n",
       " '__array_wrap__',\n",
       " '__bool__',\n",
       " '__class__',\n",
       " '__contains__',\n",
       " '__copy__',\n",
       " '__deepcopy__',\n",
       " '__delattr__',\n",
       " '__delitem__',\n",
       " '__dict__',\n",
       " '__dir__',\n",
       " '__div__',\n",
       " '__doc__',\n",
       " '__eq__',\n",
       " '__finalize__',\n",
       " '__floordiv__',\n",
       " '__format__',\n",
       " '__ge__',\n",
       " '__getattr__',\n",
       " '__getattribute__',\n",
       " '__getitem__',\n",
       " '__getstate__',\n",
       " '__gt__',\n",
       " '__hash__',\n",
       " '__iadd__',\n",
       " '__iand__',\n",
       " '__ifloordiv__',\n",
       " '__imod__',\n",
       " '__imul__',\n",
       " '__init__',\n",
       " '__init_subclass__',\n",
       " '__invert__',\n",
       " '__ior__',\n",
       " '__ipow__',\n",
       " '__isub__',\n",
       " '__iter__',\n",
       " '__itruediv__',\n",
       " '__ixor__',\n",
       " '__le__',\n",
       " '__len__',\n",
       " '__lt__',\n",
       " '__matmul__',\n",
       " '__mod__',\n",
       " '__module__',\n",
       " '__mul__',\n",
       " '__ne__',\n",
       " '__neg__',\n",
       " '__new__',\n",
       " '__nonzero__',\n",
       " '__or__',\n",
       " '__pos__',\n",
       " '__pow__',\n",
       " '__radd__',\n",
       " '__rand__',\n",
       " '__rdiv__',\n",
       " '__reduce__',\n",
       " '__reduce_ex__',\n",
       " '__repr__',\n",
       " '__rfloordiv__',\n",
       " '__rmatmul__',\n",
       " '__rmod__',\n",
       " '__rmul__',\n",
       " '__ror__',\n",
       " '__round__',\n",
       " '__rpow__',\n",
       " '__rsub__',\n",
       " '__rtruediv__',\n",
       " '__rxor__',\n",
       " '__setattr__',\n",
       " '__setitem__',\n",
       " '__setstate__',\n",
       " '__sizeof__',\n",
       " '__str__',\n",
       " '__sub__',\n",
       " '__subclasshook__',\n",
       " '__truediv__',\n",
       " '__weakref__',\n",
       " '__xor__',\n",
       " '_accessors',\n",
       " '_add_numeric_operations',\n",
       " '_add_series_or_dataframe_operations',\n",
       " '_agg_by_level',\n",
       " '_agg_examples_doc',\n",
       " '_agg_summary_and_see_also_doc',\n",
       " '_aggregate',\n",
       " '_aggregate_multiple_funcs',\n",
       " '_align_frame',\n",
       " '_align_series',\n",
       " '_box_col_values',\n",
       " '_box_item_values',\n",
       " '_builtin_table',\n",
       " '_check_inplace_setting',\n",
       " '_check_is_chained_assignment_possible',\n",
       " '_check_label_or_level_ambiguity',\n",
       " '_check_setitem_copy',\n",
       " '_clear_item_cache',\n",
       " '_clip_with_one_bound',\n",
       " '_clip_with_scalar',\n",
       " '_combine_frame',\n",
       " '_combine_match_index',\n",
       " '_consolidate',\n",
       " '_consolidate_inplace',\n",
       " '_construct_axes_dict',\n",
       " '_construct_axes_dict_from',\n",
       " '_construct_axes_from_arguments',\n",
       " '_construct_result',\n",
       " '_constructor',\n",
       " '_constructor_expanddim',\n",
       " '_constructor_sliced',\n",
       " '_convert',\n",
       " '_count_level',\n",
       " '_create_indexer',\n",
       " '_cython_table',\n",
       " '_deprecations',\n",
       " '_dir_additions',\n",
       " '_dir_deletions',\n",
       " '_drop_axis',\n",
       " '_drop_labels_or_levels',\n",
       " '_ensure_type',\n",
       " '_ensure_valid_index',\n",
       " '_find_valid_index',\n",
       " '_from_arrays',\n",
       " '_from_axes',\n",
       " '_get_agg_axis',\n",
       " '_get_axis',\n",
       " '_get_axis_name',\n",
       " '_get_axis_number',\n",
       " '_get_axis_resolvers',\n",
       " '_get_block_manager_axis',\n",
       " '_get_bool_data',\n",
       " '_get_cacher',\n",
       " '_get_cleaned_column_resolvers',\n",
       " '_get_cython_func',\n",
       " '_get_index_resolvers',\n",
       " '_get_item_cache',\n",
       " '_get_label_or_level_values',\n",
       " '_get_numeric_data',\n",
       " '_get_value',\n",
       " '_get_values',\n",
       " '_getitem_bool_array',\n",
       " '_getitem_multilevel',\n",
       " '_gotitem',\n",
       " '_iget_item_cache',\n",
       " '_indexed_same',\n",
       " '_info_axis',\n",
       " '_info_axis_name',\n",
       " '_info_axis_number',\n",
       " '_info_repr',\n",
       " '_init_mgr',\n",
       " '_internal_get_values',\n",
       " '_internal_names',\n",
       " '_internal_names_set',\n",
       " '_is_builtin_func',\n",
       " '_is_cached',\n",
       " '_is_copy',\n",
       " '_is_datelike_mixed_type',\n",
       " '_is_homogeneous_type',\n",
       " '_is_label_or_level_reference',\n",
       " '_is_label_reference',\n",
       " '_is_level_reference',\n",
       " '_is_mixed_type',\n",
       " '_is_numeric_mixed_type',\n",
       " '_is_view',\n",
       " '_ix',\n",
       " '_ixs',\n",
       " '_join_compat',\n",
       " '_maybe_cache_changed',\n",
       " '_maybe_update_cacher',\n",
       " '_metadata',\n",
       " '_needs_reindex_multi',\n",
       " '_obj_with_exclusions',\n",
       " '_protect_consolidate',\n",
       " '_reduce',\n",
       " '_reindex_axes',\n",
       " '_reindex_columns',\n",
       " '_reindex_index',\n",
       " '_reindex_multi',\n",
       " '_reindex_with_indexers',\n",
       " '_repr_data_resource_',\n",
       " '_repr_fits_horizontal_',\n",
       " '_repr_fits_vertical_',\n",
       " '_repr_html_',\n",
       " '_repr_latex_',\n",
       " '_reset_cache',\n",
       " '_reset_cacher',\n",
       " '_sanitize_column',\n",
       " '_selected_obj',\n",
       " '_selection',\n",
       " '_selection_list',\n",
       " '_selection_name',\n",
       " '_series',\n",
       " '_set_as_cached',\n",
       " '_set_axis',\n",
       " '_set_axis_name',\n",
       " '_set_is_copy',\n",
       " '_set_item',\n",
       " '_set_value',\n",
       " '_setitem_array',\n",
       " '_setitem_frame',\n",
       " '_setitem_slice',\n",
       " '_setup_axes',\n",
       " '_slice',\n",
       " '_stat_axis',\n",
       " '_stat_axis_name',\n",
       " '_stat_axis_number',\n",
       " '_take_with_is_copy',\n",
       " '_to_dict_of_blocks',\n",
       " '_try_aggregate_string_function',\n",
       " '_typ',\n",
       " '_update_inplace',\n",
       " '_validate_dtype',\n",
       " '_values',\n",
       " '_where',\n",
       " '_xs',\n",
       " 'abs',\n",
       " 'add',\n",
       " 'add_prefix',\n",
       " 'add_suffix',\n",
       " 'agg',\n",
       " 'aggregate',\n",
       " 'align',\n",
       " 'all',\n",
       " 'any',\n",
       " 'append',\n",
       " 'apply',\n",
       " 'applymap',\n",
       " 'asfreq',\n",
       " 'asof',\n",
       " 'assign',\n",
       " 'astype',\n",
       " 'at',\n",
       " 'at_time',\n",
       " 'attrs',\n",
       " 'axes',\n",
       " 'between_time',\n",
       " 'bfill',\n",
       " 'bool',\n",
       " 'boxplot',\n",
       " 'clip',\n",
       " 'columns',\n",
       " 'combine',\n",
       " 'combine_first',\n",
       " 'convert_dtypes',\n",
       " 'copy',\n",
       " 'corr',\n",
       " 'corrwith',\n",
       " 'count',\n",
       " 'cov',\n",
       " 'cummax',\n",
       " 'cummin',\n",
       " 'cumprod',\n",
       " 'cumsum',\n",
       " 'describe',\n",
       " 'diff',\n",
       " 'div',\n",
       " 'divide',\n",
       " 'dot',\n",
       " 'drop',\n",
       " 'drop_duplicates',\n",
       " 'droplevel',\n",
       " 'dropna',\n",
       " 'dtypes',\n",
       " 'duplicated',\n",
       " 'empty',\n",
       " 'eq',\n",
       " 'equals',\n",
       " 'eval',\n",
       " 'ewm',\n",
       " 'expanding',\n",
       " 'explode',\n",
       " 'ffill',\n",
       " 'fillna',\n",
       " 'filter',\n",
       " 'first',\n",
       " 'first_valid_index',\n",
       " 'floordiv',\n",
       " 'from_dict',\n",
       " 'from_records',\n",
       " 'ge',\n",
       " 'get',\n",
       " 'groupby',\n",
       " 'gt',\n",
       " 'head',\n",
       " 'hist',\n",
       " 'iat',\n",
       " 'idxmax',\n",
       " 'idxmin',\n",
       " 'iloc',\n",
       " 'index',\n",
       " 'infer_objects',\n",
       " 'info',\n",
       " 'insert',\n",
       " 'interpolate',\n",
       " 'isin',\n",
       " 'isna',\n",
       " 'isnull',\n",
       " 'items',\n",
       " 'iteritems',\n",
       " 'iterrows',\n",
       " 'itertuples',\n",
       " 'join',\n",
       " 'keys',\n",
       " 'kurt',\n",
       " 'kurtosis',\n",
       " 'last',\n",
       " 'last_valid_index',\n",
       " 'le',\n",
       " 'loc',\n",
       " 'lookup',\n",
       " 'lt',\n",
       " 'mad',\n",
       " 'mask',\n",
       " 'max',\n",
       " 'mean',\n",
       " 'median',\n",
       " 'melt',\n",
       " 'memory_usage',\n",
       " 'merge',\n",
       " 'min',\n",
       " 'mod',\n",
       " 'mode',\n",
       " 'mul',\n",
       " 'multiply',\n",
       " 'ndim',\n",
       " 'ne',\n",
       " 'nlargest',\n",
       " 'notna',\n",
       " 'notnull',\n",
       " 'nsmallest',\n",
       " 'nunique',\n",
       " 'pct_change',\n",
       " 'pipe',\n",
       " 'pivot',\n",
       " 'pivot_table',\n",
       " 'plot',\n",
       " 'pop',\n",
       " 'pow',\n",
       " 'prod',\n",
       " 'product',\n",
       " 'quantile',\n",
       " 'query',\n",
       " 'radd',\n",
       " 'rank',\n",
       " 'rdiv',\n",
       " 'reindex',\n",
       " 'reindex_like',\n",
       " 'rename',\n",
       " 'rename_axis',\n",
       " 'reorder_levels',\n",
       " 'replace',\n",
       " 'resample',\n",
       " 'reset_index',\n",
       " 'rfloordiv',\n",
       " 'rmod',\n",
       " 'rmul',\n",
       " 'rolling',\n",
       " 'round',\n",
       " 'rpow',\n",
       " 'rsub',\n",
       " 'rtruediv',\n",
       " 'sample',\n",
       " 'select_dtypes',\n",
       " 'sem',\n",
       " 'set_axis',\n",
       " 'set_index',\n",
       " 'shape',\n",
       " 'shift',\n",
       " 'size',\n",
       " 'skew',\n",
       " 'slice_shift',\n",
       " 'sort_index',\n",
       " 'sort_values',\n",
       " 'squeeze',\n",
       " 'stack',\n",
       " 'std',\n",
       " 'style',\n",
       " 'sub',\n",
       " 'subtract',\n",
       " 'sum',\n",
       " 'swapaxes',\n",
       " 'swaplevel',\n",
       " 'tail',\n",
       " 'take',\n",
       " 'to_clipboard',\n",
       " 'to_csv',\n",
       " 'to_dict',\n",
       " 'to_excel',\n",
       " 'to_feather',\n",
       " 'to_gbq',\n",
       " 'to_hdf',\n",
       " 'to_html',\n",
       " 'to_json',\n",
       " 'to_latex',\n",
       " 'to_markdown',\n",
       " 'to_numpy',\n",
       " 'to_parquet',\n",
       " 'to_period',\n",
       " 'to_pickle',\n",
       " 'to_records',\n",
       " 'to_sql',\n",
       " 'to_stata',\n",
       " 'to_string',\n",
       " 'to_timestamp',\n",
       " 'to_xarray',\n",
       " 'transform',\n",
       " 'transpose',\n",
       " 'truediv',\n",
       " 'truncate',\n",
       " 'tshift',\n",
       " 'tz_convert',\n",
       " 'tz_localize',\n",
       " 'unstack',\n",
       " 'update',\n",
       " 'values',\n",
       " 'var',\n",
       " 'where',\n",
       " 'xs']"
      ]
     },
     "execution_count": 22,
     "metadata": {},
     "output_type": "execute_result"
    }
   ],
   "source": [
    "dir(SalesRecords)"
   ]
  },
  {
   "cell_type": "code",
   "execution_count": 23,
   "metadata": {},
   "outputs": [
    {
     "data": {
      "text/plain": [
       "['Country',\n",
       " 'Item Type',\n",
       " 'Order Date',\n",
       " 'Order ID',\n",
       " 'Order Priority',\n",
       " 'Region',\n",
       " 'Sales Channel',\n",
       " 'Ship Date',\n",
       " 'Total Cost',\n",
       " 'Total Profit',\n",
       " 'Total Revenue',\n",
       " 'Unit Cost',\n",
       " 'Unit Price',\n",
       " 'Units Sold']"
      ]
     },
     "execution_count": 23,
     "metadata": {},
     "output_type": "execute_result"
    }
   ],
   "source": [
    "sorted(SalesRecords)"
   ]
  },
  {
   "cell_type": "code",
   "execution_count": 24,
   "metadata": {},
   "outputs": [
    {
     "data": {
      "text/plain": [
       "['Region',\n",
       " 'Country',\n",
       " 'Item Type',\n",
       " 'Sales Channel',\n",
       " 'Order Priority',\n",
       " 'Order Date',\n",
       " 'Order ID',\n",
       " 'Ship Date',\n",
       " 'Units Sold',\n",
       " 'Unit Price',\n",
       " 'Unit Cost',\n",
       " 'Total Revenue',\n",
       " 'Total Cost',\n",
       " 'Total Profit']"
      ]
     },
     "execution_count": 24,
     "metadata": {},
     "output_type": "execute_result"
    }
   ],
   "source": [
    "list(SalesRecords)"
   ]
  },
  {
   "cell_type": "code",
   "execution_count": 25,
   "metadata": {},
   "outputs": [
    {
     "data": {
      "text/plain": [
       "{'Region': 0                       Sub-Saharan Africa\n",
       " 1                                   Europe\n",
       " 2                                   Europe\n",
       " 3                                   Europe\n",
       " 4                                   Europe\n",
       "                        ...                \n",
       " 49995    Central America and the Caribbean\n",
       " 49996    Central America and the Caribbean\n",
       " 49997                                 Asia\n",
       " 49998                   Sub-Saharan Africa\n",
       " 49999                   Sub-Saharan Africa\n",
       " Name: Region, Length: 50000, dtype: object,\n",
       " 'Country': 0                   Namibia\n",
       " 1                   Iceland\n",
       " 2                    Russia\n",
       " 3                  Moldova \n",
       " 4                     Malta\n",
       "                 ...        \n",
       " 49995    Dominican Republic\n",
       " 49996                  Cuba\n",
       " 49997               Vietnam\n",
       " 49998          Sierra Leone\n",
       " 49999               Eritrea\n",
       " Name: Country, Length: 50000, dtype: object,\n",
       " 'Item Type': 0              Household\n",
       " 1              Baby Food\n",
       " 2                   Meat\n",
       " 3                   Meat\n",
       " 4                 Cereal\n",
       "               ...       \n",
       " 49995          Baby Food\n",
       " 49996    Office Supplies\n",
       " 49997      Personal Care\n",
       " 49998            Clothes\n",
       " 49999         Vegetables\n",
       " Name: Item Type, Length: 50000, dtype: object,\n",
       " 'Sales Channel': 0        Offline\n",
       " 1         Online\n",
       " 2         Online\n",
       " 3         Online\n",
       " 4         Online\n",
       "           ...   \n",
       " 49995    Offline\n",
       " 49996     Online\n",
       " 49997    Offline\n",
       " 49998     Online\n",
       " 49999    Offline\n",
       " Name: Sales Channel, Length: 50000, dtype: object,\n",
       " 'Order Priority': 0        M\n",
       " 1        H\n",
       " 2        L\n",
       " 3        L\n",
       " 4        M\n",
       "         ..\n",
       " 49995    C\n",
       " 49996    M\n",
       " 49997    L\n",
       " 49998    M\n",
       " 49999    L\n",
       " Name: Order Priority, Length: 50000, dtype: object,\n",
       " 'Order Date': 0         8/31/2015\n",
       " 1        11/20/2010\n",
       " 2         6/22/2017\n",
       " 3         2/28/2012\n",
       " 4         8/12/2010\n",
       "             ...    \n",
       " 49995     2/12/2015\n",
       " 49996     3/28/2013\n",
       " 49997    11/11/2016\n",
       " 49998     8/28/2010\n",
       " 49999      6/5/2014\n",
       " Name: Order Date, Length: 50000, dtype: object,\n",
       " 'Order ID': 0        897751939\n",
       " 1        599480426\n",
       " 2        538911855\n",
       " 3        459845054\n",
       " 4        626391351\n",
       "            ...    \n",
       " 49995    350891578\n",
       " 49996    748260629\n",
       " 49997    322932231\n",
       " 49998    492142713\n",
       " 49999    943440902\n",
       " Name: Order ID, Length: 50000, dtype: int64,\n",
       " 'Ship Date': 0        10/12/2015\n",
       " 1          1/9/2011\n",
       " 2         6/25/2017\n",
       " 3         3/20/2012\n",
       " 4         9/13/2010\n",
       "             ...    \n",
       " 49995     3/15/2015\n",
       " 49996      5/3/2013\n",
       " 49997    12/18/2016\n",
       " 49998     9/21/2010\n",
       " 49999     6/30/2014\n",
       " Name: Ship Date, Length: 50000, dtype: object,\n",
       " 'Units Sold': 0        3604\n",
       " 1        8435\n",
       " 2        4848\n",
       " 3        7225\n",
       " 4        1975\n",
       "          ... \n",
       " 49995    5470\n",
       " 49996    5803\n",
       " 49997    1678\n",
       " 49998    4820\n",
       " 49999    3983\n",
       " Name: Units Sold, Length: 50000, dtype: int64,\n",
       " 'Unit Price': 0        668.27\n",
       " 1        255.28\n",
       " 2        421.89\n",
       " 3        421.89\n",
       " 4        205.70\n",
       "           ...  \n",
       " 49995    255.28\n",
       " 49996    651.21\n",
       " 49997     81.73\n",
       " 49998    109.28\n",
       " 49999    154.06\n",
       " Name: Unit Price, Length: 50000, dtype: float64,\n",
       " 'Unit Cost': 0        502.54\n",
       " 1        159.42\n",
       " 2        364.69\n",
       " 3        364.69\n",
       " 4        117.11\n",
       "           ...  \n",
       " 49995    159.42\n",
       " 49996    524.96\n",
       " 49997     56.67\n",
       " 49998     35.84\n",
       " 49999     90.93\n",
       " Name: Unit Cost, Length: 50000, dtype: float64,\n",
       " 'Total Revenue': 0        2408445.08\n",
       " 1        2153286.80\n",
       " 2        2045322.72\n",
       " 3        3048155.25\n",
       " 4         406257.50\n",
       "             ...    \n",
       " 49995    1396381.60\n",
       " 49996    3778971.63\n",
       " 49997     137142.94\n",
       " 49998     526729.60\n",
       " 49999     613620.98\n",
       " Name: Total Revenue, Length: 50000, dtype: float64,\n",
       " 'Total Cost': 0        1811154.16\n",
       " 1        1344707.70\n",
       " 2        1768017.12\n",
       " 3        2634885.25\n",
       " 4         231292.25\n",
       "             ...    \n",
       " 49995     872027.40\n",
       " 49996    3046342.88\n",
       " 49997      95092.26\n",
       " 49998     172748.80\n",
       " 49999     362174.19\n",
       " Name: Total Cost, Length: 50000, dtype: float64,\n",
       " 'Total Profit': 0        597290.92\n",
       " 1        808579.10\n",
       " 2        277305.60\n",
       " 3        413270.00\n",
       " 4        174965.25\n",
       "            ...    \n",
       " 49995    524354.20\n",
       " 49996    732628.75\n",
       " 49997     42050.68\n",
       " 49998    353980.80\n",
       " 49999    251446.79\n",
       " Name: Total Profit, Length: 50000, dtype: float64}"
      ]
     },
     "execution_count": 25,
     "metadata": {},
     "output_type": "execute_result"
    }
   ],
   "source": [
    "dict(SalesRecords)"
   ]
  },
  {
   "cell_type": "code",
   "execution_count": 26,
   "metadata": {},
   "outputs": [
    {
     "data": {
      "text/plain": [
       "'Units Sold'"
      ]
     },
     "execution_count": 26,
     "metadata": {},
     "output_type": "execute_result"
    }
   ],
   "source": [
    "max(SalesRecords)"
   ]
  },
  {
   "cell_type": "code",
   "execution_count": 27,
   "metadata": {},
   "outputs": [
    {
     "data": {
      "text/plain": [
       "'Country'"
      ]
     },
     "execution_count": 27,
     "metadata": {},
     "output_type": "execute_result"
    }
   ],
   "source": [
    "min(SalesRecords)"
   ]
  },
  {
   "cell_type": "markdown",
   "metadata": {},
   "source": [
    "## More Series Attributes:"
   ]
  },
  {
   "cell_type": "code",
   "execution_count": 28,
   "metadata": {},
   "outputs": [
    {
     "data": {
      "text/plain": [
       "RangeIndex(start=0, stop=50000, step=1)"
      ]
     },
     "execution_count": 28,
     "metadata": {},
     "output_type": "execute_result"
    }
   ],
   "source": [
    "SalesRecords.index"
   ]
  },
  {
   "cell_type": "code",
   "execution_count": 29,
   "metadata": {},
   "outputs": [
    {
     "data": {
      "text/plain": [
       "<bound method NDFrame.describe of                                   Region             Country        Item Type  \\\n",
       "0                     Sub-Saharan Africa             Namibia        Household   \n",
       "1                                 Europe             Iceland        Baby Food   \n",
       "2                                 Europe              Russia             Meat   \n",
       "3                                 Europe            Moldova              Meat   \n",
       "4                                 Europe               Malta           Cereal   \n",
       "...                                  ...                 ...              ...   \n",
       "49995  Central America and the Caribbean  Dominican Republic        Baby Food   \n",
       "49996  Central America and the Caribbean                Cuba  Office Supplies   \n",
       "49997                               Asia             Vietnam    Personal Care   \n",
       "49998                 Sub-Saharan Africa        Sierra Leone          Clothes   \n",
       "49999                 Sub-Saharan Africa             Eritrea       Vegetables   \n",
       "\n",
       "      Sales Channel Order Priority  Order Date   Order ID   Ship Date  \\\n",
       "0           Offline              M   8/31/2015  897751939  10/12/2015   \n",
       "1            Online              H  11/20/2010  599480426    1/9/2011   \n",
       "2            Online              L   6/22/2017  538911855   6/25/2017   \n",
       "3            Online              L   2/28/2012  459845054   3/20/2012   \n",
       "4            Online              M   8/12/2010  626391351   9/13/2010   \n",
       "...             ...            ...         ...        ...         ...   \n",
       "49995       Offline              C   2/12/2015  350891578   3/15/2015   \n",
       "49996        Online              M   3/28/2013  748260629    5/3/2013   \n",
       "49997       Offline              L  11/11/2016  322932231  12/18/2016   \n",
       "49998        Online              M   8/28/2010  492142713   9/21/2010   \n",
       "49999       Offline              L    6/5/2014  943440902   6/30/2014   \n",
       "\n",
       "       Units Sold  Unit Price  Unit Cost  Total Revenue  Total Cost  \\\n",
       "0            3604      668.27     502.54     2408445.08  1811154.16   \n",
       "1            8435      255.28     159.42     2153286.80  1344707.70   \n",
       "2            4848      421.89     364.69     2045322.72  1768017.12   \n",
       "3            7225      421.89     364.69     3048155.25  2634885.25   \n",
       "4            1975      205.70     117.11      406257.50   231292.25   \n",
       "...           ...         ...        ...            ...         ...   \n",
       "49995        5470      255.28     159.42     1396381.60   872027.40   \n",
       "49996        5803      651.21     524.96     3778971.63  3046342.88   \n",
       "49997        1678       81.73      56.67      137142.94    95092.26   \n",
       "49998        4820      109.28      35.84      526729.60   172748.80   \n",
       "49999        3983      154.06      90.93      613620.98   362174.19   \n",
       "\n",
       "       Total Profit  \n",
       "0         597290.92  \n",
       "1         808579.10  \n",
       "2         277305.60  \n",
       "3         413270.00  \n",
       "4         174965.25  \n",
       "...             ...  \n",
       "49995     524354.20  \n",
       "49996     732628.75  \n",
       "49997      42050.68  \n",
       "49998     353980.80  \n",
       "49999     251446.79  \n",
       "\n",
       "[50000 rows x 14 columns]>"
      ]
     },
     "execution_count": 29,
     "metadata": {},
     "output_type": "execute_result"
    }
   ],
   "source": [
    "SalesRecords.describe"
   ]
  },
  {
   "cell_type": "code",
   "execution_count": 30,
   "metadata": {},
   "outputs": [
    {
     "data": {
      "text/plain": [
       "array([['Sub-Saharan Africa', 'Namibia', 'Household', ..., 2408445.08,\n",
       "        1811154.16, 597290.92],\n",
       "       ['Europe', 'Iceland', 'Baby Food', ..., 2153286.8, 1344707.7,\n",
       "        808579.1],\n",
       "       ['Europe', 'Russia', 'Meat', ..., 2045322.72, 1768017.12,\n",
       "        277305.6],\n",
       "       ...,\n",
       "       ['Asia', 'Vietnam', 'Personal Care', ..., 137142.94, 95092.26,\n",
       "        42050.68],\n",
       "       ['Sub-Saharan Africa', 'Sierra Leone', 'Clothes', ..., 526729.6,\n",
       "        172748.8, 353980.8],\n",
       "       ['Sub-Saharan Africa', 'Eritrea', 'Vegetables', ..., 613620.98,\n",
       "        362174.19, 251446.79]], dtype=object)"
      ]
     },
     "execution_count": 30,
     "metadata": {},
     "output_type": "execute_result"
    }
   ],
   "source": [
    "SalesRecords.values"
   ]
  },
  {
   "cell_type": "code",
   "execution_count": 31,
   "metadata": {},
   "outputs": [
    {
     "data": {
      "text/html": [
       "<div>\n",
       "<style scoped>\n",
       "    .dataframe tbody tr th:only-of-type {\n",
       "        vertical-align: middle;\n",
       "    }\n",
       "\n",
       "    .dataframe tbody tr th {\n",
       "        vertical-align: top;\n",
       "    }\n",
       "\n",
       "    .dataframe thead th {\n",
       "        text-align: right;\n",
       "    }\n",
       "</style>\n",
       "<table border=\"1\" class=\"dataframe\">\n",
       "  <thead>\n",
       "    <tr style=\"text-align: right;\">\n",
       "      <th></th>\n",
       "      <th>Region</th>\n",
       "      <th>Country</th>\n",
       "      <th>Item Type</th>\n",
       "      <th>Sales Channel</th>\n",
       "      <th>Order Priority</th>\n",
       "      <th>Order Date</th>\n",
       "      <th>Order ID</th>\n",
       "      <th>Ship Date</th>\n",
       "      <th>Units Sold</th>\n",
       "      <th>Unit Price</th>\n",
       "      <th>Unit Cost</th>\n",
       "      <th>Total Revenue</th>\n",
       "      <th>Total Cost</th>\n",
       "      <th>Total Profit</th>\n",
       "    </tr>\n",
       "  </thead>\n",
       "  <tbody>\n",
       "    <tr>\n",
       "      <th>0</th>\n",
       "      <td>Sub-Saharan Africa</td>\n",
       "      <td>Namibia</td>\n",
       "      <td>Household</td>\n",
       "      <td>Offline</td>\n",
       "      <td>M</td>\n",
       "      <td>8/31/2015</td>\n",
       "      <td>897751939</td>\n",
       "      <td>10/12/2015</td>\n",
       "      <td>3604</td>\n",
       "      <td>668.27</td>\n",
       "      <td>502.54</td>\n",
       "      <td>2408445.08</td>\n",
       "      <td>1811154.16</td>\n",
       "      <td>597290.92</td>\n",
       "    </tr>\n",
       "    <tr>\n",
       "      <th>1</th>\n",
       "      <td>Europe</td>\n",
       "      <td>Iceland</td>\n",
       "      <td>Baby Food</td>\n",
       "      <td>Online</td>\n",
       "      <td>H</td>\n",
       "      <td>11/20/2010</td>\n",
       "      <td>599480426</td>\n",
       "      <td>1/9/2011</td>\n",
       "      <td>8435</td>\n",
       "      <td>255.28</td>\n",
       "      <td>159.42</td>\n",
       "      <td>2153286.80</td>\n",
       "      <td>1344707.70</td>\n",
       "      <td>808579.10</td>\n",
       "    </tr>\n",
       "    <tr>\n",
       "      <th>2</th>\n",
       "      <td>Europe</td>\n",
       "      <td>Russia</td>\n",
       "      <td>Meat</td>\n",
       "      <td>Online</td>\n",
       "      <td>L</td>\n",
       "      <td>6/22/2017</td>\n",
       "      <td>538911855</td>\n",
       "      <td>6/25/2017</td>\n",
       "      <td>4848</td>\n",
       "      <td>421.89</td>\n",
       "      <td>364.69</td>\n",
       "      <td>2045322.72</td>\n",
       "      <td>1768017.12</td>\n",
       "      <td>277305.60</td>\n",
       "    </tr>\n",
       "    <tr>\n",
       "      <th>3</th>\n",
       "      <td>Europe</td>\n",
       "      <td>Moldova</td>\n",
       "      <td>Meat</td>\n",
       "      <td>Online</td>\n",
       "      <td>L</td>\n",
       "      <td>2/28/2012</td>\n",
       "      <td>459845054</td>\n",
       "      <td>3/20/2012</td>\n",
       "      <td>7225</td>\n",
       "      <td>421.89</td>\n",
       "      <td>364.69</td>\n",
       "      <td>3048155.25</td>\n",
       "      <td>2634885.25</td>\n",
       "      <td>413270.00</td>\n",
       "    </tr>\n",
       "    <tr>\n",
       "      <th>4</th>\n",
       "      <td>Europe</td>\n",
       "      <td>Malta</td>\n",
       "      <td>Cereal</td>\n",
       "      <td>Online</td>\n",
       "      <td>M</td>\n",
       "      <td>8/12/2010</td>\n",
       "      <td>626391351</td>\n",
       "      <td>9/13/2010</td>\n",
       "      <td>1975</td>\n",
       "      <td>205.70</td>\n",
       "      <td>117.11</td>\n",
       "      <td>406257.50</td>\n",
       "      <td>231292.25</td>\n",
       "      <td>174965.25</td>\n",
       "    </tr>\n",
       "    <tr>\n",
       "      <th>...</th>\n",
       "      <td>...</td>\n",
       "      <td>...</td>\n",
       "      <td>...</td>\n",
       "      <td>...</td>\n",
       "      <td>...</td>\n",
       "      <td>...</td>\n",
       "      <td>...</td>\n",
       "      <td>...</td>\n",
       "      <td>...</td>\n",
       "      <td>...</td>\n",
       "      <td>...</td>\n",
       "      <td>...</td>\n",
       "      <td>...</td>\n",
       "      <td>...</td>\n",
       "    </tr>\n",
       "    <tr>\n",
       "      <th>49995</th>\n",
       "      <td>Central America and the Caribbean</td>\n",
       "      <td>Dominican Republic</td>\n",
       "      <td>Baby Food</td>\n",
       "      <td>Offline</td>\n",
       "      <td>C</td>\n",
       "      <td>2/12/2015</td>\n",
       "      <td>350891578</td>\n",
       "      <td>3/15/2015</td>\n",
       "      <td>5470</td>\n",
       "      <td>255.28</td>\n",
       "      <td>159.42</td>\n",
       "      <td>1396381.60</td>\n",
       "      <td>872027.40</td>\n",
       "      <td>524354.20</td>\n",
       "    </tr>\n",
       "    <tr>\n",
       "      <th>49996</th>\n",
       "      <td>Central America and the Caribbean</td>\n",
       "      <td>Cuba</td>\n",
       "      <td>Office Supplies</td>\n",
       "      <td>Online</td>\n",
       "      <td>M</td>\n",
       "      <td>3/28/2013</td>\n",
       "      <td>748260629</td>\n",
       "      <td>5/3/2013</td>\n",
       "      <td>5803</td>\n",
       "      <td>651.21</td>\n",
       "      <td>524.96</td>\n",
       "      <td>3778971.63</td>\n",
       "      <td>3046342.88</td>\n",
       "      <td>732628.75</td>\n",
       "    </tr>\n",
       "    <tr>\n",
       "      <th>49997</th>\n",
       "      <td>Asia</td>\n",
       "      <td>Vietnam</td>\n",
       "      <td>Personal Care</td>\n",
       "      <td>Offline</td>\n",
       "      <td>L</td>\n",
       "      <td>11/11/2016</td>\n",
       "      <td>322932231</td>\n",
       "      <td>12/18/2016</td>\n",
       "      <td>1678</td>\n",
       "      <td>81.73</td>\n",
       "      <td>56.67</td>\n",
       "      <td>137142.94</td>\n",
       "      <td>95092.26</td>\n",
       "      <td>42050.68</td>\n",
       "    </tr>\n",
       "    <tr>\n",
       "      <th>49998</th>\n",
       "      <td>Sub-Saharan Africa</td>\n",
       "      <td>Sierra Leone</td>\n",
       "      <td>Clothes</td>\n",
       "      <td>Online</td>\n",
       "      <td>M</td>\n",
       "      <td>8/28/2010</td>\n",
       "      <td>492142713</td>\n",
       "      <td>9/21/2010</td>\n",
       "      <td>4820</td>\n",
       "      <td>109.28</td>\n",
       "      <td>35.84</td>\n",
       "      <td>526729.60</td>\n",
       "      <td>172748.80</td>\n",
       "      <td>353980.80</td>\n",
       "    </tr>\n",
       "    <tr>\n",
       "      <th>49999</th>\n",
       "      <td>Sub-Saharan Africa</td>\n",
       "      <td>Eritrea</td>\n",
       "      <td>Vegetables</td>\n",
       "      <td>Offline</td>\n",
       "      <td>L</td>\n",
       "      <td>6/5/2014</td>\n",
       "      <td>943440902</td>\n",
       "      <td>6/30/2014</td>\n",
       "      <td>3983</td>\n",
       "      <td>154.06</td>\n",
       "      <td>90.93</td>\n",
       "      <td>613620.98</td>\n",
       "      <td>362174.19</td>\n",
       "      <td>251446.79</td>\n",
       "    </tr>\n",
       "  </tbody>\n",
       "</table>\n",
       "<p>50000 rows × 14 columns</p>\n",
       "</div>"
      ],
      "text/plain": [
       "                                  Region             Country        Item Type  \\\n",
       "0                     Sub-Saharan Africa             Namibia        Household   \n",
       "1                                 Europe             Iceland        Baby Food   \n",
       "2                                 Europe              Russia             Meat   \n",
       "3                                 Europe            Moldova              Meat   \n",
       "4                                 Europe               Malta           Cereal   \n",
       "...                                  ...                 ...              ...   \n",
       "49995  Central America and the Caribbean  Dominican Republic        Baby Food   \n",
       "49996  Central America and the Caribbean                Cuba  Office Supplies   \n",
       "49997                               Asia             Vietnam    Personal Care   \n",
       "49998                 Sub-Saharan Africa        Sierra Leone          Clothes   \n",
       "49999                 Sub-Saharan Africa             Eritrea       Vegetables   \n",
       "\n",
       "      Sales Channel Order Priority  Order Date   Order ID   Ship Date  \\\n",
       "0           Offline              M   8/31/2015  897751939  10/12/2015   \n",
       "1            Online              H  11/20/2010  599480426    1/9/2011   \n",
       "2            Online              L   6/22/2017  538911855   6/25/2017   \n",
       "3            Online              L   2/28/2012  459845054   3/20/2012   \n",
       "4            Online              M   8/12/2010  626391351   9/13/2010   \n",
       "...             ...            ...         ...        ...         ...   \n",
       "49995       Offline              C   2/12/2015  350891578   3/15/2015   \n",
       "49996        Online              M   3/28/2013  748260629    5/3/2013   \n",
       "49997       Offline              L  11/11/2016  322932231  12/18/2016   \n",
       "49998        Online              M   8/28/2010  492142713   9/21/2010   \n",
       "49999       Offline              L    6/5/2014  943440902   6/30/2014   \n",
       "\n",
       "       Units Sold  Unit Price  Unit Cost  Total Revenue  Total Cost  \\\n",
       "0            3604      668.27     502.54     2408445.08  1811154.16   \n",
       "1            8435      255.28     159.42     2153286.80  1344707.70   \n",
       "2            4848      421.89     364.69     2045322.72  1768017.12   \n",
       "3            7225      421.89     364.69     3048155.25  2634885.25   \n",
       "4            1975      205.70     117.11      406257.50   231292.25   \n",
       "...           ...         ...        ...            ...         ...   \n",
       "49995        5470      255.28     159.42     1396381.60   872027.40   \n",
       "49996        5803      651.21     524.96     3778971.63  3046342.88   \n",
       "49997        1678       81.73      56.67      137142.94    95092.26   \n",
       "49998        4820      109.28      35.84      526729.60   172748.80   \n",
       "49999        3983      154.06      90.93      613620.98   362174.19   \n",
       "\n",
       "       Total Profit  \n",
       "0         597290.92  \n",
       "1         808579.10  \n",
       "2         277305.60  \n",
       "3         413270.00  \n",
       "4         174965.25  \n",
       "...             ...  \n",
       "49995     524354.20  \n",
       "49996     732628.75  \n",
       "49997      42050.68  \n",
       "49998     353980.80  \n",
       "49999     251446.79  \n",
       "\n",
       "[50000 rows x 14 columns]"
      ]
     },
     "execution_count": 31,
     "metadata": {},
     "output_type": "execute_result"
    }
   ],
   "source": [
    "SalesRecords"
   ]
  },
  {
   "cell_type": "code",
   "execution_count": 32,
   "metadata": {},
   "outputs": [
    {
     "data": {
      "text/plain": [
       "pandas.core.frame.DataFrame"
      ]
     },
     "execution_count": 32,
     "metadata": {},
     "output_type": "execute_result"
    }
   ],
   "source": [
    "type(SalesRecords)"
   ]
  },
  {
   "cell_type": "code",
   "execution_count": 33,
   "metadata": {},
   "outputs": [
    {
     "data": {
      "text/plain": [
       "2"
      ]
     },
     "execution_count": 33,
     "metadata": {},
     "output_type": "execute_result"
    }
   ],
   "source": [
    "SalesRecords.ndim"
   ]
  },
  {
   "cell_type": "code",
   "execution_count": 34,
   "metadata": {},
   "outputs": [
    {
     "data": {
      "text/plain": [
       "(50000, 14)"
      ]
     },
     "execution_count": 34,
     "metadata": {},
     "output_type": "execute_result"
    }
   ],
   "source": [
    "SalesRecords.shape"
   ]
  },
  {
   "cell_type": "code",
   "execution_count": 35,
   "metadata": {},
   "outputs": [
    {
     "data": {
      "text/plain": [
       "700000"
      ]
     },
     "execution_count": 35,
     "metadata": {},
     "output_type": "execute_result"
    }
   ],
   "source": [
    "SalesRecords.size"
   ]
  },
  {
   "cell_type": "code",
   "execution_count": 36,
   "metadata": {},
   "outputs": [
    {
     "ename": "SyntaxError",
     "evalue": "invalid syntax (<ipython-input-36-59575bef1dd4>, line 1)",
     "output_type": "error",
     "traceback": [
      "\u001b[1;36m  File \u001b[1;32m\"<ipython-input-36-59575bef1dd4>\"\u001b[1;36m, line \u001b[1;32m1\u001b[0m\n\u001b[1;33m    SalesRecords.\u001b[0m\n\u001b[1;37m                 ^\u001b[0m\n\u001b[1;31mSyntaxError\u001b[0m\u001b[1;31m:\u001b[0m invalid syntax\n"
     ]
    }
   ],
   "source": [
    "SalesRecords."
   ]
  },
  {
   "cell_type": "markdown",
   "metadata": {},
   "source": [
    "## The Sort Values Method:"
   ]
  },
  {
   "cell_type": "code",
   "execution_count": null,
   "metadata": {},
   "outputs": [],
   "source": [
    "pd.read_csv(\"C:/Users/kkher/Desktop/SalesRecords.csv\", usecols = [\"Region\"], squeeze = True)"
   ]
  },
  {
   "cell_type": "code",
   "execution_count": 39,
   "metadata": {},
   "outputs": [],
   "source": [
    "series = pd.Series(SalesRecords['Region'], index=SalesRecords.index)"
   ]
  },
  {
   "cell_type": "code",
   "execution_count": null,
   "metadata": {},
   "outputs": [],
   "source": [
    "series.sort_values(ascending=False)"
   ]
  },
  {
   "cell_type": "code",
   "execution_count": null,
   "metadata": {},
   "outputs": [],
   "source": [
    "series.sort_values(ascending=True)"
   ]
  },
  {
   "cell_type": "code",
   "execution_count": null,
   "metadata": {},
   "outputs": [],
   "source": [
    "series.sort_values(ascending=False).tail()"
   ]
  },
  {
   "cell_type": "code",
   "execution_count": null,
   "metadata": {},
   "outputs": [],
   "source": [
    "series.sort_values(ascending=False).head(1)"
   ]
  },
  {
   "cell_type": "code",
   "execution_count": null,
   "metadata": {},
   "outputs": [],
   "source": [
    "series.head(1)"
   ]
  },
  {
   "cell_type": "markdown",
   "metadata": {},
   "source": [
    "## The Inplace Parameter:"
   ]
  },
  {
   "cell_type": "code",
   "execution_count": 37,
   "metadata": {},
   "outputs": [
    {
     "data": {
      "text/plain": [
       "0                       Sub-Saharan Africa\n",
       "1                                   Europe\n",
       "2                                   Europe\n",
       "3                                   Europe\n",
       "4                                   Europe\n",
       "                       ...                \n",
       "49995    Central America and the Caribbean\n",
       "49996    Central America and the Caribbean\n",
       "49997                                 Asia\n",
       "49998                   Sub-Saharan Africa\n",
       "49999                   Sub-Saharan Africa\n",
       "Name: Region, Length: 50000, dtype: object"
      ]
     },
     "execution_count": 37,
     "metadata": {},
     "output_type": "execute_result"
    }
   ],
   "source": [
    "pd.read_csv(\"C:/Users/kkher/Desktop/SalesRecords.csv\", usecols = [\"Region\"], squeeze = True)"
   ]
  },
  {
   "cell_type": "code",
   "execution_count": null,
   "metadata": {},
   "outputs": [],
   "source": [
    "series = series.sort_values()"
   ]
  },
  {
   "cell_type": "code",
   "execution_count": null,
   "metadata": {},
   "outputs": [],
   "source": [
    "series = series.sort_values(ascending = False, inplace = True)"
   ]
  },
  {
   "cell_type": "code",
   "execution_count": null,
   "metadata": {},
   "outputs": [],
   "source": [
    "series.sort_values().head()"
   ]
  },
  {
   "cell_type": "code",
   "execution_count": null,
   "metadata": {},
   "outputs": [],
   "source": [
    "series.head"
   ]
  },
  {
   "cell_type": "code",
   "execution_count": null,
   "metadata": {},
   "outputs": [],
   "source": [
    "series.head(3)"
   ]
  },
  {
   "cell_type": "markdown",
   "metadata": {},
   "source": [
    "## The .sort_index() Method:"
   ]
  },
  {
   "cell_type": "code",
   "execution_count": null,
   "metadata": {},
   "outputs": [],
   "source": [
    "series.sort_values(ascending = False, inplace = True)"
   ]
  },
  {
   "cell_type": "code",
   "execution_count": null,
   "metadata": {},
   "outputs": [],
   "source": [
    "series.head(3)"
   ]
  },
  {
   "cell_type": "code",
   "execution_count": null,
   "metadata": {},
   "outputs": [],
   "source": [
    "series.sort_index(ascending = False)"
   ]
  },
  {
   "cell_type": "markdown",
   "metadata": {},
   "source": [
    "## Python's in Keyword:"
   ]
  },
  {
   "cell_type": "code",
   "execution_count": null,
   "metadata": {},
   "outputs": [],
   "source": [
    "3 in [1, 2, 3, 4, 5]"
   ]
  },
  {
   "cell_type": "code",
   "execution_count": null,
   "metadata": {},
   "outputs": [],
   "source": [
    "series.head(3)"
   ]
  },
  {
   "cell_type": "code",
   "execution_count": null,
   "metadata": {},
   "outputs": [],
   "source": [
    "\"Sub-Saharan Africa\" in series"
   ]
  },
  {
   "cell_type": "code",
   "execution_count": null,
   "metadata": {},
   "outputs": [],
   "source": [
    "100 in series\n",
    "100 in series.index"
   ]
  },
  {
   "cell_type": "code",
   "execution_count": null,
   "metadata": {},
   "outputs": [],
   "source": [
    "series.index"
   ]
  },
  {
   "cell_type": "code",
   "execution_count": null,
   "metadata": {},
   "outputs": [],
   "source": [
    "series.values"
   ]
  },
  {
   "cell_type": "code",
   "execution_count": null,
   "metadata": {},
   "outputs": [],
   "source": [
    "\"Sub-Saharan Africa\" in series.values"
   ]
  },
  {
   "cell_type": "markdown",
   "metadata": {},
   "source": [
    "## Extract Series Values by Index Position:"
   ]
  },
  {
   "cell_type": "code",
   "execution_count": 53,
   "metadata": {},
   "outputs": [
    {
     "data": {
      "text/plain": [
       "'Europe'"
      ]
     },
     "execution_count": 53,
     "metadata": {},
     "output_type": "execute_result"
    }
   ],
   "source": [
    "series[1]"
   ]
  },
  {
   "cell_type": "code",
   "execution_count": 54,
   "metadata": {},
   "outputs": [
    {
     "data": {
      "text/plain": [
       "100    Central America and the Caribbean\n",
       "200                   Sub-Saharan Africa\n",
       "300                   Sub-Saharan Africa\n",
       "Name: Region, dtype: object"
      ]
     },
     "execution_count": 54,
     "metadata": {},
     "output_type": "execute_result"
    }
   ],
   "source": [
    "series[[100, 200, 300]]"
   ]
  },
  {
   "cell_type": "code",
   "execution_count": null,
   "metadata": {},
   "outputs": [],
   "source": [
    "series[50:100]"
   ]
  },
  {
   "cell_type": "code",
   "execution_count": null,
   "metadata": {},
   "outputs": [],
   "source": [
    "series[:50]"
   ]
  },
  {
   "cell_type": "code",
   "execution_count": 55,
   "metadata": {},
   "outputs": [
    {
     "data": {
      "text/plain": [
       "0        Sub-Saharan Africa\n",
       "1                    Europe\n",
       "2                    Europe\n",
       "3                    Europe\n",
       "4                    Europe\n",
       "                ...        \n",
       "49965                  Asia\n",
       "49966    Sub-Saharan Africa\n",
       "49967    Sub-Saharan Africa\n",
       "49968    Sub-Saharan Africa\n",
       "49969                Europe\n",
       "Name: Region, Length: 49970, dtype: object"
      ]
     },
     "execution_count": 55,
     "metadata": {},
     "output_type": "execute_result"
    }
   ],
   "source": [
    "series[:-30]"
   ]
  },
  {
   "cell_type": "code",
   "execution_count": 56,
   "metadata": {},
   "outputs": [
    {
     "data": {
      "text/plain": [
       "49970         Middle East and North Africa\n",
       "49971                               Europe\n",
       "49972    Central America and the Caribbean\n",
       "49973                               Europe\n",
       "49974                                 Asia\n",
       "49975                                 Asia\n",
       "49976                   Sub-Saharan Africa\n",
       "49977                               Europe\n",
       "49978    Central America and the Caribbean\n",
       "49979                               Europe\n",
       "49980                                 Asia\n",
       "49981                Australia and Oceania\n",
       "49982                               Europe\n",
       "49983                                 Asia\n",
       "49984                   Sub-Saharan Africa\n",
       "49985         Middle East and North Africa\n",
       "49986    Central America and the Caribbean\n",
       "49987         Middle East and North Africa\n",
       "49988                                 Asia\n",
       "49989                   Sub-Saharan Africa\n",
       "49990                   Sub-Saharan Africa\n",
       "49991         Middle East and North Africa\n",
       "49992                               Europe\n",
       "49993                Australia and Oceania\n",
       "49994                               Europe\n",
       "49995    Central America and the Caribbean\n",
       "49996    Central America and the Caribbean\n",
       "49997                                 Asia\n",
       "49998                   Sub-Saharan Africa\n",
       "49999                   Sub-Saharan Africa\n",
       "Name: Region, dtype: object"
      ]
     },
     "execution_count": 56,
     "metadata": {},
     "output_type": "execute_result"
    }
   ],
   "source": [
    "series[-30:]"
   ]
  },
  {
   "cell_type": "code",
   "execution_count": 57,
   "metadata": {},
   "outputs": [
    {
     "data": {
      "text/plain": [
       "49970         Middle East and North Africa\n",
       "49971                               Europe\n",
       "49972    Central America and the Caribbean\n",
       "49973                               Europe\n",
       "49974                                 Asia\n",
       "49975                                 Asia\n",
       "49976                   Sub-Saharan Africa\n",
       "49977                               Europe\n",
       "49978    Central America and the Caribbean\n",
       "49979                               Europe\n",
       "49980                                 Asia\n",
       "49981                Australia and Oceania\n",
       "49982                               Europe\n",
       "49983                                 Asia\n",
       "49984                   Sub-Saharan Africa\n",
       "49985         Middle East and North Africa\n",
       "49986    Central America and the Caribbean\n",
       "49987         Middle East and North Africa\n",
       "49988                                 Asia\n",
       "49989                   Sub-Saharan Africa\n",
       "Name: Region, dtype: object"
      ]
     },
     "execution_count": 57,
     "metadata": {},
     "output_type": "execute_result"
    }
   ],
   "source": [
    "series[-30 : -10]"
   ]
  },
  {
   "cell_type": "markdown",
   "metadata": {},
   "source": [
    "## Extract Values by Index Label:"
   ]
  },
  {
   "cell_type": "code",
   "execution_count": 59,
   "metadata": {},
   "outputs": [
    {
     "ename": "SyntaxError",
     "evalue": "invalid syntax (<ipython-input-59-528798b0c711>, line 2)",
     "output_type": "error",
     "traceback": [
      "\u001b[1;36m  File \u001b[1;32m\"<ipython-input-59-528798b0c711>\"\u001b[1;36m, line \u001b[1;32m2\u001b[0m\n\u001b[1;33m    pd.melt(df1)\u001b[0m\n\u001b[1;37m     ^\u001b[0m\n\u001b[1;31mSyntaxError\u001b[0m\u001b[1;31m:\u001b[0m invalid syntax\n"
     ]
    }
   ],
   "source": [
    "df1 = pd.read_csv(\"C:/Users/kkher/Desktop/SalesRecords.csv\"\n",
    "pd.melt(df1)"
   ]
  },
  {
   "cell_type": "code",
   "execution_count": null,
   "metadata": {},
   "outputs": [],
   "source": [
    "series[\"Europe\"]"
   ]
  },
  {
   "cell_type": "markdown",
   "metadata": {},
   "source": [
    "## The .get () Method on a Series:"
   ]
  },
  {
   "cell_type": "code",
   "execution_count": 73,
   "metadata": {},
   "outputs": [
    {
     "name": "stderr",
     "output_type": "stream",
     "text": [
      "C:\\Users\\kkher\\Anaconda3\\lib\\site-packages\\ipykernel_launcher.py:2: DeprecationWarning: The default dtype for empty Series will be 'object' instead of 'float64' in a future version. Specify a dtype explicitly to silence this warning.\n",
      "  \n"
     ]
    },
    {
     "data": {
      "text/plain": [
       "pandas.core.series.Series"
      ]
     },
     "execution_count": 73,
     "metadata": {},
     "output_type": "execute_result"
    }
   ],
   "source": [
    "pSeries = pd.read_csv(\"C:/Users/kkher/Desktop/SalesRecords.csv\").set_index('Region',inplace=True)\n",
    "nSer = pd.Series(pSeries)\n",
    "type(nSer)\n",
    "nSer."
   ]
  },
  {
   "cell_type": "markdown",
   "metadata": {},
   "source": [
    "## Math Methods on Series Objects:"
   ]
  },
  {
   "cell_type": "code",
   "execution_count": null,
   "metadata": {},
   "outputs": [],
   "source": [
    "series.head(3)"
   ]
  },
  {
   "cell_type": "code",
   "execution_count": null,
   "metadata": {},
   "outputs": [],
   "source": [
    "series.count()"
   ]
  },
  {
   "cell_type": "code",
   "execution_count": null,
   "metadata": {},
   "outputs": [],
   "source": [
    "len(series)"
   ]
  },
  {
   "cell_type": "code",
   "execution_count": null,
   "metadata": {},
   "outputs": [],
   "source": [
    "series.sum()"
   ]
  },
  {
   "cell_type": "code",
   "execution_count": null,
   "metadata": {},
   "outputs": [],
   "source": [
    "series.mean()"
   ]
  },
  {
   "cell_type": "code",
   "execution_count": null,
   "metadata": {},
   "outputs": [],
   "source": [
    "series.sum() / series.count()"
   ]
  },
  {
   "cell_type": "code",
   "execution_count": null,
   "metadata": {},
   "outputs": [],
   "source": [
    "series.std()"
   ]
  },
  {
   "cell_type": "code",
   "execution_count": null,
   "metadata": {},
   "outputs": [],
   "source": [
    "series.min()"
   ]
  },
  {
   "cell_type": "code",
   "execution_count": null,
   "metadata": {},
   "outputs": [],
   "source": [
    "series.max()"
   ]
  },
  {
   "cell_type": "code",
   "execution_count": null,
   "metadata": {},
   "outputs": [],
   "source": [
    "series.median()"
   ]
  },
  {
   "cell_type": "code",
   "execution_count": null,
   "metadata": {},
   "outputs": [],
   "source": [
    "series.mode()"
   ]
  },
  {
   "cell_type": "code",
   "execution_count": null,
   "metadata": {},
   "outputs": [],
   "source": [
    "series.describe()"
   ]
  },
  {
   "cell_type": "code",
   "execution_count": null,
   "metadata": {},
   "outputs": [],
   "source": [
    "series.unique()"
   ]
  },
  {
   "cell_type": "markdown",
   "metadata": {},
   "source": [
    "## The .idxmax() and .idxmin() Methods:"
   ]
  },
  {
   "cell_type": "code",
   "execution_count": null,
   "metadata": {},
   "outputs": [],
   "source": [
    "series.max()"
   ]
  },
  {
   "cell_type": "code",
   "execution_count": null,
   "metadata": {},
   "outputs": [],
   "source": [
    "series.min()"
   ]
  },
  {
   "cell_type": "code",
   "execution_count": null,
   "metadata": {},
   "outputs": [],
   "source": [
    "series.idxmax"
   ]
  },
  {
   "cell_type": "code",
   "execution_count": null,
   "metadata": {},
   "outputs": [],
   "source": [
    "series[49995]"
   ]
  },
  {
   "cell_type": "code",
   "execution_count": null,
   "metadata": {},
   "outputs": [],
   "source": [
    "series.idxmin"
   ]
  },
  {
   "cell_type": "code",
   "execution_count": null,
   "metadata": {},
   "outputs": [],
   "source": [
    "series[series.idxmin]"
   ]
  },
  {
   "cell_type": "markdown",
   "metadata": {},
   "source": [
    "## The .value_counts() Method:"
   ]
  },
  {
   "cell_type": "code",
   "execution_count": null,
   "metadata": {},
   "outputs": [],
   "source": [
    "series.value_counts().sum()"
   ]
  },
  {
   "cell_type": "code",
   "execution_count": null,
   "metadata": {},
   "outputs": [],
   "source": [
    "series.count()"
   ]
  },
  {
   "cell_type": "code",
   "execution_count": null,
   "metadata": {},
   "outputs": [],
   "source": [
    "series.value_counts(ascending = True)"
   ]
  },
  {
   "cell_type": "markdown",
   "metadata": {},
   "source": [
    "## The .apply() Method:"
   ]
  },
  {
   "cell_type": "code",
   "execution_count": 41,
   "metadata": {},
   "outputs": [
    {
     "data": {
      "text/plain": [
       "0    Sub-Saharan Africa\n",
       "1                Europe\n",
       "2                Europe\n",
       "3                Europe\n",
       "4                Europe\n",
       "5                  Asia\n",
       "Name: Region, dtype: object"
      ]
     },
     "execution_count": 41,
     "metadata": {},
     "output_type": "execute_result"
    }
   ],
   "source": [
    "series.head(6)"
   ]
  },
  {
   "cell_type": "code",
   "execution_count": 51,
   "metadata": {},
   "outputs": [],
   "source": [
    "def classify_performance(number):\n",
    "    if number < 300:\n",
    "        return \"OK\"\n",
    "    elif number >= 300 and number < 650:\n",
    "        return \"Satisfactory\"\n",
    "    else:\n",
    "        return \"Incredible!\""
   ]
  },
  {
   "cell_type": "code",
   "execution_count": 43,
   "metadata": {},
   "outputs": [
    {
     "ename": "TypeError",
     "evalue": "'<' not supported between instances of 'str' and 'int'",
     "output_type": "error",
     "traceback": [
      "\u001b[1;31m---------------------------------------------------------------------------\u001b[0m",
      "\u001b[1;31mTypeError\u001b[0m                                 Traceback (most recent call last)",
      "\u001b[1;32m<ipython-input-43-0de276c8cc94>\u001b[0m in \u001b[0;36m<module>\u001b[1;34m\u001b[0m\n\u001b[1;32m----> 1\u001b[1;33m \u001b[0mseries\u001b[0m\u001b[1;33m.\u001b[0m\u001b[0mapply\u001b[0m\u001b[1;33m(\u001b[0m\u001b[0mclassify_performance\u001b[0m\u001b[1;33m)\u001b[0m\u001b[1;33m.\u001b[0m\u001b[0mtail\u001b[0m\u001b[1;33m(\u001b[0m\u001b[1;33m)\u001b[0m\u001b[1;33m\u001b[0m\u001b[1;33m\u001b[0m\u001b[0m\n\u001b[0m",
      "\u001b[1;32m~\\Anaconda3\\lib\\site-packages\\pandas\\core\\series.py\u001b[0m in \u001b[0;36mapply\u001b[1;34m(self, func, convert_dtype, args, **kwds)\u001b[0m\n\u001b[0;32m   3847\u001b[0m             \u001b[1;32melse\u001b[0m\u001b[1;33m:\u001b[0m\u001b[1;33m\u001b[0m\u001b[1;33m\u001b[0m\u001b[0m\n\u001b[0;32m   3848\u001b[0m                 \u001b[0mvalues\u001b[0m \u001b[1;33m=\u001b[0m \u001b[0mself\u001b[0m\u001b[1;33m.\u001b[0m\u001b[0mastype\u001b[0m\u001b[1;33m(\u001b[0m\u001b[0mobject\u001b[0m\u001b[1;33m)\u001b[0m\u001b[1;33m.\u001b[0m\u001b[0mvalues\u001b[0m\u001b[1;33m\u001b[0m\u001b[1;33m\u001b[0m\u001b[0m\n\u001b[1;32m-> 3849\u001b[1;33m                 \u001b[0mmapped\u001b[0m \u001b[1;33m=\u001b[0m \u001b[0mlib\u001b[0m\u001b[1;33m.\u001b[0m\u001b[0mmap_infer\u001b[0m\u001b[1;33m(\u001b[0m\u001b[0mvalues\u001b[0m\u001b[1;33m,\u001b[0m \u001b[0mf\u001b[0m\u001b[1;33m,\u001b[0m \u001b[0mconvert\u001b[0m\u001b[1;33m=\u001b[0m\u001b[0mconvert_dtype\u001b[0m\u001b[1;33m)\u001b[0m\u001b[1;33m\u001b[0m\u001b[1;33m\u001b[0m\u001b[0m\n\u001b[0m\u001b[0;32m   3850\u001b[0m \u001b[1;33m\u001b[0m\u001b[0m\n\u001b[0;32m   3851\u001b[0m         \u001b[1;32mif\u001b[0m \u001b[0mlen\u001b[0m\u001b[1;33m(\u001b[0m\u001b[0mmapped\u001b[0m\u001b[1;33m)\u001b[0m \u001b[1;32mand\u001b[0m \u001b[0misinstance\u001b[0m\u001b[1;33m(\u001b[0m\u001b[0mmapped\u001b[0m\u001b[1;33m[\u001b[0m\u001b[1;36m0\u001b[0m\u001b[1;33m]\u001b[0m\u001b[1;33m,\u001b[0m \u001b[0mSeries\u001b[0m\u001b[1;33m)\u001b[0m\u001b[1;33m:\u001b[0m\u001b[1;33m\u001b[0m\u001b[1;33m\u001b[0m\u001b[0m\n",
      "\u001b[1;32mpandas\\_libs\\lib.pyx\u001b[0m in \u001b[0;36mpandas._libs.lib.map_infer\u001b[1;34m()\u001b[0m\n",
      "\u001b[1;32m<ipython-input-42-e1dc05e05bd7>\u001b[0m in \u001b[0;36mclassify_performance\u001b[1;34m(number)\u001b[0m\n\u001b[0;32m      1\u001b[0m \u001b[1;32mdef\u001b[0m \u001b[0mclassify_performance\u001b[0m\u001b[1;33m(\u001b[0m\u001b[0mnumber\u001b[0m\u001b[1;33m)\u001b[0m\u001b[1;33m:\u001b[0m\u001b[1;33m\u001b[0m\u001b[1;33m\u001b[0m\u001b[0m\n\u001b[1;32m----> 2\u001b[1;33m     \u001b[1;32mif\u001b[0m \u001b[0mnumber\u001b[0m \u001b[1;33m<\u001b[0m \u001b[1;36m300\u001b[0m\u001b[1;33m:\u001b[0m\u001b[1;33m\u001b[0m\u001b[1;33m\u001b[0m\u001b[0m\n\u001b[0m\u001b[0;32m      3\u001b[0m         \u001b[1;32mreturn\u001b[0m \u001b[1;34m\"OK\"\u001b[0m\u001b[1;33m\u001b[0m\u001b[1;33m\u001b[0m\u001b[0m\n\u001b[0;32m      4\u001b[0m     \u001b[1;32melif\u001b[0m \u001b[0mnumber\u001b[0m \u001b[1;33m>=\u001b[0m \u001b[1;36m300\u001b[0m \u001b[1;32mand\u001b[0m \u001b[0mnumber\u001b[0m \u001b[1;33m<\u001b[0m \u001b[1;36m650\u001b[0m\u001b[1;33m:\u001b[0m\u001b[1;33m\u001b[0m\u001b[1;33m\u001b[0m\u001b[0m\n\u001b[0;32m      5\u001b[0m         \u001b[1;32mreturn\u001b[0m \u001b[1;34m\"Satisfactory\"\u001b[0m\u001b[1;33m\u001b[0m\u001b[1;33m\u001b[0m\u001b[0m\n",
      "\u001b[1;31mTypeError\u001b[0m: '<' not supported between instances of 'str' and 'int'"
     ]
    }
   ],
   "source": [
    "series.apply(classify_performance).tail()"
   ]
  },
  {
   "cell_type": "code",
   "execution_count": 44,
   "metadata": {},
   "outputs": [
    {
     "ename": "TypeError",
     "evalue": "can only concatenate str (not \"int\") to str",
     "output_type": "error",
     "traceback": [
      "\u001b[1;31m---------------------------------------------------------------------------\u001b[0m",
      "\u001b[1;31mTypeError\u001b[0m                                 Traceback (most recent call last)",
      "\u001b[1;32m<ipython-input-44-dd3c5eb8e4f4>\u001b[0m in \u001b[0;36m<module>\u001b[1;34m\u001b[0m\n\u001b[1;32m----> 1\u001b[1;33m \u001b[0mseries\u001b[0m\u001b[1;33m.\u001b[0m\u001b[0mapply\u001b[0m\u001b[1;33m(\u001b[0m\u001b[1;32mlambda\u001b[0m \u001b[0mstock_price\u001b[0m \u001b[1;33m:\u001b[0m \u001b[0mstock_price\u001b[0m \u001b[1;33m+\u001b[0m \u001b[1;36m1\u001b[0m\u001b[1;33m)\u001b[0m\u001b[1;33m\u001b[0m\u001b[1;33m\u001b[0m\u001b[0m\n\u001b[0m",
      "\u001b[1;32m~\\Anaconda3\\lib\\site-packages\\pandas\\core\\series.py\u001b[0m in \u001b[0;36mapply\u001b[1;34m(self, func, convert_dtype, args, **kwds)\u001b[0m\n\u001b[0;32m   3847\u001b[0m             \u001b[1;32melse\u001b[0m\u001b[1;33m:\u001b[0m\u001b[1;33m\u001b[0m\u001b[1;33m\u001b[0m\u001b[0m\n\u001b[0;32m   3848\u001b[0m                 \u001b[0mvalues\u001b[0m \u001b[1;33m=\u001b[0m \u001b[0mself\u001b[0m\u001b[1;33m.\u001b[0m\u001b[0mastype\u001b[0m\u001b[1;33m(\u001b[0m\u001b[0mobject\u001b[0m\u001b[1;33m)\u001b[0m\u001b[1;33m.\u001b[0m\u001b[0mvalues\u001b[0m\u001b[1;33m\u001b[0m\u001b[1;33m\u001b[0m\u001b[0m\n\u001b[1;32m-> 3849\u001b[1;33m                 \u001b[0mmapped\u001b[0m \u001b[1;33m=\u001b[0m \u001b[0mlib\u001b[0m\u001b[1;33m.\u001b[0m\u001b[0mmap_infer\u001b[0m\u001b[1;33m(\u001b[0m\u001b[0mvalues\u001b[0m\u001b[1;33m,\u001b[0m \u001b[0mf\u001b[0m\u001b[1;33m,\u001b[0m \u001b[0mconvert\u001b[0m\u001b[1;33m=\u001b[0m\u001b[0mconvert_dtype\u001b[0m\u001b[1;33m)\u001b[0m\u001b[1;33m\u001b[0m\u001b[1;33m\u001b[0m\u001b[0m\n\u001b[0m\u001b[0;32m   3850\u001b[0m \u001b[1;33m\u001b[0m\u001b[0m\n\u001b[0;32m   3851\u001b[0m         \u001b[1;32mif\u001b[0m \u001b[0mlen\u001b[0m\u001b[1;33m(\u001b[0m\u001b[0mmapped\u001b[0m\u001b[1;33m)\u001b[0m \u001b[1;32mand\u001b[0m \u001b[0misinstance\u001b[0m\u001b[1;33m(\u001b[0m\u001b[0mmapped\u001b[0m\u001b[1;33m[\u001b[0m\u001b[1;36m0\u001b[0m\u001b[1;33m]\u001b[0m\u001b[1;33m,\u001b[0m \u001b[0mSeries\u001b[0m\u001b[1;33m)\u001b[0m\u001b[1;33m:\u001b[0m\u001b[1;33m\u001b[0m\u001b[1;33m\u001b[0m\u001b[0m\n",
      "\u001b[1;32mpandas\\_libs\\lib.pyx\u001b[0m in \u001b[0;36mpandas._libs.lib.map_infer\u001b[1;34m()\u001b[0m\n",
      "\u001b[1;32m<ipython-input-44-dd3c5eb8e4f4>\u001b[0m in \u001b[0;36m<lambda>\u001b[1;34m(stock_price)\u001b[0m\n\u001b[1;32m----> 1\u001b[1;33m \u001b[0mseries\u001b[0m\u001b[1;33m.\u001b[0m\u001b[0mapply\u001b[0m\u001b[1;33m(\u001b[0m\u001b[1;32mlambda\u001b[0m \u001b[0mstock_price\u001b[0m \u001b[1;33m:\u001b[0m \u001b[0mstock_price\u001b[0m \u001b[1;33m+\u001b[0m \u001b[1;36m1\u001b[0m\u001b[1;33m)\u001b[0m\u001b[1;33m\u001b[0m\u001b[1;33m\u001b[0m\u001b[0m\n\u001b[0m",
      "\u001b[1;31mTypeError\u001b[0m: can only concatenate str (not \"int\") to str"
     ]
    }
   ],
   "source": [
    "series.apply(lambda stock_price : stock_price + 1)"
   ]
  },
  {
   "cell_type": "markdown",
   "metadata": {},
   "source": [
    "## The .map() Method:"
   ]
  },
  {
   "cell_type": "code",
   "execution_count": 48,
   "metadata": {},
   "outputs": [
    {
     "data": {
      "text/plain": [
       "0    Sub-Saharan Africa\n",
       "1                Europe\n",
       "2                Europe\n",
       "Name: Region, dtype: object"
      ]
     },
     "execution_count": 48,
     "metadata": {},
     "output_type": "execute_result"
    }
   ],
   "source": [
    "series_names = pd.read_csv(\"C:/Users/kkher/Desktop/SalesRecords.csv\", usecols = [\"Region\"], squeeze = True)\n",
    "series_names.head(3)"
   ]
  },
  {
   "cell_type": "code",
   "execution_count": 50,
   "metadata": {},
   "outputs": [
    {
     "data": {
      "text/html": [
       "<div>\n",
       "<style scoped>\n",
       "    .dataframe tbody tr th:only-of-type {\n",
       "        vertical-align: middle;\n",
       "    }\n",
       "\n",
       "    .dataframe tbody tr th {\n",
       "        vertical-align: top;\n",
       "    }\n",
       "\n",
       "    .dataframe thead th {\n",
       "        text-align: right;\n",
       "    }\n",
       "</style>\n",
       "<table border=\"1\" class=\"dataframe\">\n",
       "  <thead>\n",
       "    <tr style=\"text-align: right;\">\n",
       "      <th></th>\n",
       "      <th>Country</th>\n",
       "      <th>Item Type</th>\n",
       "      <th>Sales Channel</th>\n",
       "      <th>Order Priority</th>\n",
       "      <th>Order Date</th>\n",
       "      <th>Order ID</th>\n",
       "      <th>Ship Date</th>\n",
       "      <th>Units Sold</th>\n",
       "      <th>Unit Price</th>\n",
       "      <th>Unit Cost</th>\n",
       "      <th>Total Revenue</th>\n",
       "      <th>Total Cost</th>\n",
       "      <th>Total Profit</th>\n",
       "    </tr>\n",
       "    <tr>\n",
       "      <th>Region</th>\n",
       "      <th></th>\n",
       "      <th></th>\n",
       "      <th></th>\n",
       "      <th></th>\n",
       "      <th></th>\n",
       "      <th></th>\n",
       "      <th></th>\n",
       "      <th></th>\n",
       "      <th></th>\n",
       "      <th></th>\n",
       "      <th></th>\n",
       "      <th></th>\n",
       "      <th></th>\n",
       "    </tr>\n",
       "  </thead>\n",
       "  <tbody>\n",
       "    <tr>\n",
       "      <th>Sub-Saharan Africa</th>\n",
       "      <td>Namibia</td>\n",
       "      <td>Household</td>\n",
       "      <td>Offline</td>\n",
       "      <td>M</td>\n",
       "      <td>8/31/2015</td>\n",
       "      <td>897751939</td>\n",
       "      <td>10/12/2015</td>\n",
       "      <td>3604</td>\n",
       "      <td>668.27</td>\n",
       "      <td>502.54</td>\n",
       "      <td>2408445.08</td>\n",
       "      <td>1811154.16</td>\n",
       "      <td>597290.92</td>\n",
       "    </tr>\n",
       "    <tr>\n",
       "      <th>Europe</th>\n",
       "      <td>Iceland</td>\n",
       "      <td>Baby Food</td>\n",
       "      <td>Online</td>\n",
       "      <td>H</td>\n",
       "      <td>11/20/2010</td>\n",
       "      <td>599480426</td>\n",
       "      <td>1/9/2011</td>\n",
       "      <td>8435</td>\n",
       "      <td>255.28</td>\n",
       "      <td>159.42</td>\n",
       "      <td>2153286.80</td>\n",
       "      <td>1344707.70</td>\n",
       "      <td>808579.10</td>\n",
       "    </tr>\n",
       "    <tr>\n",
       "      <th>Europe</th>\n",
       "      <td>Russia</td>\n",
       "      <td>Meat</td>\n",
       "      <td>Online</td>\n",
       "      <td>L</td>\n",
       "      <td>6/22/2017</td>\n",
       "      <td>538911855</td>\n",
       "      <td>6/25/2017</td>\n",
       "      <td>4848</td>\n",
       "      <td>421.89</td>\n",
       "      <td>364.69</td>\n",
       "      <td>2045322.72</td>\n",
       "      <td>1768017.12</td>\n",
       "      <td>277305.60</td>\n",
       "    </tr>\n",
       "  </tbody>\n",
       "</table>\n",
       "</div>"
      ],
      "text/plain": [
       "                    Country  Item Type Sales Channel Order Priority  \\\n",
       "Region                                                                \n",
       "Sub-Saharan Africa  Namibia  Household       Offline              M   \n",
       "Europe              Iceland  Baby Food        Online              H   \n",
       "Europe               Russia       Meat        Online              L   \n",
       "\n",
       "                    Order Date   Order ID   Ship Date  Units Sold  Unit Price  \\\n",
       "Region                                                                          \n",
       "Sub-Saharan Africa   8/31/2015  897751939  10/12/2015        3604      668.27   \n",
       "Europe              11/20/2010  599480426    1/9/2011        8435      255.28   \n",
       "Europe               6/22/2017  538911855   6/25/2017        4848      421.89   \n",
       "\n",
       "                    Unit Cost  Total Revenue  Total Cost  Total Profit  \n",
       "Region                                                                  \n",
       "Sub-Saharan Africa     502.54     2408445.08  1811154.16     597290.92  \n",
       "Europe                 159.42     2153286.80  1344707.70     808579.10  \n",
       "Europe                 364.69     2045322.72  1768017.12     277305.60  "
      ]
     },
     "execution_count": 50,
     "metadata": {},
     "output_type": "execute_result"
    }
   ],
   "source": [
    "series_types = pd.read_csv(\"C:/Users/kkher/Desktop/SalesRecords.csv\", index_col = \"Region\", squeeze = True)\n",
    "series_types.head(3)"
   ]
  }
 ],
 "metadata": {
  "kernelspec": {
   "display_name": "Python 3",
   "language": "python",
   "name": "python3"
  },
  "language_info": {
   "codemirror_mode": {
    "name": "ipython",
    "version": 3
   },
   "file_extension": ".py",
   "mimetype": "text/x-python",
   "name": "python",
   "nbconvert_exporter": "python",
   "pygments_lexer": "ipython3",
   "version": "3.7.5"
  }
 },
 "nbformat": 4,
 "nbformat_minor": 2
}
