{
 "cells": [
  {
   "cell_type": "code",
   "execution_count": 1,
   "metadata": {},
   "outputs": [],
   "source": [
    "import pandas as pd\n",
    "import json\n",
    "\n",
    "data = json.load(open('C:/Users/kkher/Desktop/Pandas/covid.json'))\n",
    "\n",
    "# df = pd.DataFrame(data[\"locations\"])\n",
    "# df\n",
    "# json_struct = json.loads(df.to_json(orient=\"records\"))    \n",
    "# flattenedJson= pd.json_normalize(json_struct)\n",
    "# flattenedJson\n",
    "\n",
    "# df\n",
    "\n",
    "#df = pd.json_normalize(data)\n",
    "#df1=df.loc[:,'latest.confirmed']\n",
    "#print(df1)\n",
    "\n",
    "# pd.json_normalize(d1f[\"locations\"])"
   ]
  },
  {
   "cell_type": "code",
   "execution_count": 2,
   "metadata": {},
   "outputs": [],
   "source": [
    "import requests\n",
    "url = 'https://coronavirus-tracker-api.herokuapp.com/v2/locations'\n",
    "response = requests.get(url)"
   ]
  },
  {
   "cell_type": "code",
   "execution_count": 3,
   "metadata": {},
   "outputs": [
    {
     "name": "stdout",
     "output_type": "stream",
     "text": [
      "<Response [200]>\n"
     ]
    }
   ],
   "source": [
    "print(response)"
   ]
  },
  {
   "cell_type": "code",
   "execution_count": 4,
   "metadata": {},
   "outputs": [],
   "source": [
    "jsonText = response.text"
   ]
  },
  {
   "cell_type": "code",
   "execution_count": 5,
   "metadata": {},
   "outputs": [],
   "source": [
    "data = json.loads(jsonText)"
   ]
  },
  {
   "cell_type": "code",
   "execution_count": 17,
   "metadata": {
    "collapsed": true
   },
   "outputs": [
    {
     "data": {
      "text/html": [
       "<div>\n",
       "<style scoped>\n",
       "    .dataframe tbody tr th:only-of-type {\n",
       "        vertical-align: middle;\n",
       "    }\n",
       "\n",
       "    .dataframe tbody tr th {\n",
       "        vertical-align: top;\n",
       "    }\n",
       "\n",
       "    .dataframe thead th {\n",
       "        text-align: right;\n",
       "    }\n",
       "</style>\n",
       "<table border=\"1\" class=\"dataframe\">\n",
       "  <thead>\n",
       "    <tr style=\"text-align: right;\">\n",
       "      <th></th>\n",
       "      <th>id</th>\n",
       "      <th>country</th>\n",
       "      <th>country_code</th>\n",
       "      <th>country_population</th>\n",
       "      <th>province</th>\n",
       "      <th>last_updated</th>\n",
       "      <th>coordinates.latitude</th>\n",
       "      <th>coordinates.longitude</th>\n",
       "      <th>latest.confirmed</th>\n",
       "      <th>latest.deaths</th>\n",
       "      <th>latest.recovered</th>\n",
       "    </tr>\n",
       "  </thead>\n",
       "  <tbody>\n",
       "    <tr>\n",
       "      <th>0</th>\n",
       "      <td>0</td>\n",
       "      <td>Afghanistan</td>\n",
       "      <td>AF</td>\n",
       "      <td>29121286.0</td>\n",
       "      <td></td>\n",
       "      <td>2020-04-12T13:03:17.356034Z</td>\n",
       "      <td>33.0</td>\n",
       "      <td>65.0</td>\n",
       "      <td>555</td>\n",
       "      <td>18</td>\n",
       "      <td>0</td>\n",
       "    </tr>\n",
       "    <tr>\n",
       "      <th>1</th>\n",
       "      <td>1</td>\n",
       "      <td>Albania</td>\n",
       "      <td>AL</td>\n",
       "      <td>2986952.0</td>\n",
       "      <td></td>\n",
       "      <td>2020-04-12T13:03:17.362225Z</td>\n",
       "      <td>41.1533</td>\n",
       "      <td>20.1683</td>\n",
       "      <td>433</td>\n",
       "      <td>23</td>\n",
       "      <td>0</td>\n",
       "    </tr>\n",
       "    <tr>\n",
       "      <th>2</th>\n",
       "      <td>2</td>\n",
       "      <td>Algeria</td>\n",
       "      <td>DZ</td>\n",
       "      <td>34586184.0</td>\n",
       "      <td></td>\n",
       "      <td>2020-04-12T13:03:17.370514Z</td>\n",
       "      <td>28.0339</td>\n",
       "      <td>1.6596</td>\n",
       "      <td>1825</td>\n",
       "      <td>275</td>\n",
       "      <td>0</td>\n",
       "    </tr>\n",
       "    <tr>\n",
       "      <th>3</th>\n",
       "      <td>3</td>\n",
       "      <td>Andorra</td>\n",
       "      <td>AD</td>\n",
       "      <td>84000.0</td>\n",
       "      <td></td>\n",
       "      <td>2020-04-12T13:03:17.376617Z</td>\n",
       "      <td>42.5063</td>\n",
       "      <td>1.5218</td>\n",
       "      <td>601</td>\n",
       "      <td>26</td>\n",
       "      <td>0</td>\n",
       "    </tr>\n",
       "    <tr>\n",
       "      <th>4</th>\n",
       "      <td>4</td>\n",
       "      <td>Angola</td>\n",
       "      <td>AO</td>\n",
       "      <td>13068161.0</td>\n",
       "      <td></td>\n",
       "      <td>2020-04-12T13:03:17.382732Z</td>\n",
       "      <td>-11.2027</td>\n",
       "      <td>17.8739</td>\n",
       "      <td>19</td>\n",
       "      <td>2</td>\n",
       "      <td>0</td>\n",
       "    </tr>\n",
       "    <tr>\n",
       "      <th>...</th>\n",
       "      <td>...</td>\n",
       "      <td>...</td>\n",
       "      <td>...</td>\n",
       "      <td>...</td>\n",
       "      <td>...</td>\n",
       "      <td>...</td>\n",
       "      <td>...</td>\n",
       "      <td>...</td>\n",
       "      <td>...</td>\n",
       "      <td>...</td>\n",
       "      <td>...</td>\n",
       "    </tr>\n",
       "    <tr>\n",
       "      <th>259</th>\n",
       "      <td>259</td>\n",
       "      <td>France</td>\n",
       "      <td>FR</td>\n",
       "      <td>64768389.0</td>\n",
       "      <td>Saint Pierre and Miquelon</td>\n",
       "      <td>2020-04-12T13:03:18.488854Z</td>\n",
       "      <td>46.8852</td>\n",
       "      <td>-56.3159</td>\n",
       "      <td>1</td>\n",
       "      <td>0</td>\n",
       "      <td>0</td>\n",
       "    </tr>\n",
       "    <tr>\n",
       "      <th>260</th>\n",
       "      <td>260</td>\n",
       "      <td>South Sudan</td>\n",
       "      <td>SS</td>\n",
       "      <td>8260490.0</td>\n",
       "      <td></td>\n",
       "      <td>2020-04-12T13:03:18.496013Z</td>\n",
       "      <td>6.8770000000000024</td>\n",
       "      <td>31.307</td>\n",
       "      <td>4</td>\n",
       "      <td>0</td>\n",
       "      <td>0</td>\n",
       "    </tr>\n",
       "    <tr>\n",
       "      <th>261</th>\n",
       "      <td>261</td>\n",
       "      <td>Western Sahara</td>\n",
       "      <td>EH</td>\n",
       "      <td>273008.0</td>\n",
       "      <td></td>\n",
       "      <td>2020-04-12T13:03:18.503113Z</td>\n",
       "      <td>24.2155</td>\n",
       "      <td>-12.8858</td>\n",
       "      <td>4</td>\n",
       "      <td>0</td>\n",
       "      <td>0</td>\n",
       "    </tr>\n",
       "    <tr>\n",
       "      <th>262</th>\n",
       "      <td>262</td>\n",
       "      <td>Sao Tome and Principe</td>\n",
       "      <td>ST</td>\n",
       "      <td>197700.0</td>\n",
       "      <td></td>\n",
       "      <td>2020-04-12T13:03:18.510228Z</td>\n",
       "      <td>0.18636</td>\n",
       "      <td>6.613081</td>\n",
       "      <td>4</td>\n",
       "      <td>0</td>\n",
       "      <td>0</td>\n",
       "    </tr>\n",
       "    <tr>\n",
       "      <th>263</th>\n",
       "      <td>263</td>\n",
       "      <td>Yemen</td>\n",
       "      <td>YE</td>\n",
       "      <td>23495361.0</td>\n",
       "      <td></td>\n",
       "      <td>2020-04-12T13:03:18.517397Z</td>\n",
       "      <td>15.552726999999999</td>\n",
       "      <td>48.516388</td>\n",
       "      <td>1</td>\n",
       "      <td>0</td>\n",
       "      <td>0</td>\n",
       "    </tr>\n",
       "  </tbody>\n",
       "</table>\n",
       "<p>264 rows × 11 columns</p>\n",
       "</div>"
      ],
      "text/plain": [
       "      id                country country_code  country_population  \\\n",
       "0      0            Afghanistan           AF          29121286.0   \n",
       "1      1                Albania           AL           2986952.0   \n",
       "2      2                Algeria           DZ          34586184.0   \n",
       "3      3                Andorra           AD             84000.0   \n",
       "4      4                 Angola           AO          13068161.0   \n",
       "..   ...                    ...          ...                 ...   \n",
       "259  259                 France           FR          64768389.0   \n",
       "260  260            South Sudan           SS           8260490.0   \n",
       "261  261         Western Sahara           EH            273008.0   \n",
       "262  262  Sao Tome and Principe           ST            197700.0   \n",
       "263  263                  Yemen           YE          23495361.0   \n",
       "\n",
       "                      province                 last_updated  \\\n",
       "0                               2020-04-12T13:03:17.356034Z   \n",
       "1                               2020-04-12T13:03:17.362225Z   \n",
       "2                               2020-04-12T13:03:17.370514Z   \n",
       "3                               2020-04-12T13:03:17.376617Z   \n",
       "4                               2020-04-12T13:03:17.382732Z   \n",
       "..                         ...                          ...   \n",
       "259  Saint Pierre and Miquelon  2020-04-12T13:03:18.488854Z   \n",
       "260                             2020-04-12T13:03:18.496013Z   \n",
       "261                             2020-04-12T13:03:18.503113Z   \n",
       "262                             2020-04-12T13:03:18.510228Z   \n",
       "263                             2020-04-12T13:03:18.517397Z   \n",
       "\n",
       "    coordinates.latitude coordinates.longitude  latest.confirmed  \\\n",
       "0                   33.0                  65.0               555   \n",
       "1                41.1533               20.1683               433   \n",
       "2                28.0339                1.6596              1825   \n",
       "3                42.5063                1.5218               601   \n",
       "4               -11.2027               17.8739                19   \n",
       "..                   ...                   ...               ...   \n",
       "259              46.8852              -56.3159                 1   \n",
       "260   6.8770000000000024                31.307                 4   \n",
       "261              24.2155              -12.8858                 4   \n",
       "262              0.18636              6.613081                 4   \n",
       "263   15.552726999999999             48.516388                 1   \n",
       "\n",
       "     latest.deaths  latest.recovered  \n",
       "0               18                 0  \n",
       "1               23                 0  \n",
       "2              275                 0  \n",
       "3               26                 0  \n",
       "4                2                 0  \n",
       "..             ...               ...  \n",
       "259              0                 0  \n",
       "260              0                 0  \n",
       "261              0                 0  \n",
       "262              0                 0  \n",
       "263              0                 0  \n",
       "\n",
       "[264 rows x 11 columns]"
      ]
     },
     "execution_count": 17,
     "metadata": {},
     "output_type": "execute_result"
    }
   ],
   "source": [
    "df = pd.DataFrame(data[\"locations\"])\n",
    "df\n",
    "json_struct = json.loads(df.to_json(orient=\"records\"))    \n",
    "flattenedJson= pd.json_normalize(json_struct)\n",
    "flattenedJson"
   ]
  },
  {
   "cell_type": "code",
   "execution_count": null,
   "metadata": {
    "scrolled": true
   },
   "outputs": [],
   "source": [
    "df2 = df.groupby(\"country\")"
   ]
  },
  {
   "cell_type": "code",
   "execution_count": null,
   "metadata": {},
   "outputs": [],
   "source": [
    "df.country.value_counts()"
   ]
  },
  {
   "cell_type": "code",
   "execution_count": null,
   "metadata": {},
   "outputs": [],
   "source": [
    "df[\"latest\"].value_counts()"
   ]
  },
  {
   "cell_type": "code",
   "execution_count": null,
   "metadata": {},
   "outputs": [],
   "source": [
    "for col in df.columns:\n",
    "    print(col)"
   ]
  },
  {
   "cell_type": "code",
   "execution_count": null,
   "metadata": {},
   "outputs": [],
   "source": [
    "flattenedJson[\"latest.confirmed\"]"
   ]
  },
  {
   "cell_type": "code",
   "execution_count": null,
   "metadata": {},
   "outputs": [],
   "source": [
    "df [\"latest\"] ==\"latest.confirmed\""
   ]
  },
  {
   "cell_type": "code",
   "execution_count": null,
   "metadata": {},
   "outputs": [],
   "source": [
    "df2 = df.groupby([\"country\", \"latest\"])"
   ]
  },
  {
   "cell_type": "code",
   "execution_count": null,
   "metadata": {},
   "outputs": [],
   "source": [
    "type(df2)"
   ]
  },
  {
   "cell_type": "code",
   "execution_count": null,
   "metadata": {},
   "outputs": [],
   "source": [
    "df.loc[20]"
   ]
  },
  {
   "cell_type": "code",
   "execution_count": null,
   "metadata": {},
   "outputs": [],
   "source": [
    "df.columns = [\"id\", \"country\", \"country_code\", \"country_population\", \"province\", \"last_updated\", \"coordinates\", \"latest\"]"
   ]
  },
  {
   "cell_type": "code",
   "execution_count": null,
   "metadata": {},
   "outputs": [],
   "source": [
    "df.head(100)"
   ]
  },
  {
   "cell_type": "code",
   "execution_count": null,
   "metadata": {},
   "outputs": [],
   "source": [
    "type(flattenedJson)"
   ]
  },
  {
   "cell_type": "code",
   "execution_count": null,
   "metadata": {
    "scrolled": true
   },
   "outputs": [],
   "source": [
    "flattenedJson.head()"
   ]
  },
  {
   "cell_type": "code",
   "execution_count": null,
   "metadata": {},
   "outputs": [],
   "source": [
    "flattenedJson.groupby(['country','latest.confirmed', 'latest.deaths', 'latest.recovered']).sum()"
   ]
  }
 ],
 "metadata": {
  "kernelspec": {
   "display_name": "Python 3",
   "language": "python",
   "name": "python3"
  },
  "language_info": {
   "codemirror_mode": {
    "name": "ipython",
    "version": 3
   },
   "file_extension": ".py",
   "mimetype": "text/x-python",
   "name": "python",
   "nbconvert_exporter": "python",
   "pygments_lexer": "ipython3",
   "version": "3.7.5"
  }
 },
 "nbformat": 4,
 "nbformat_minor": 4
}
